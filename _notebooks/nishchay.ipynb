{
 "cells": [
  {
   "cell_type": "code",
   "execution_count": null,
   "id": "a7e663a6",
   "metadata": {},
   "outputs": [],
   "source": [
    "print()"
   ]
  }
 ],
 "metadata": {
  "language_info": {
   "name": "python"
  }
 },
 "nbformat": 4,
 "nbformat_minor": 5
}
