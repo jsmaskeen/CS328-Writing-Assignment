{
 "cells": [
  {
   "cell_type": "code",
   "execution_count": null,
   "id": "eb4e673e",
   "metadata": {},
   "outputs": [],
   "source": [
    "print()"
   ]
  }
 ],
 "metadata": {
  "language_info": {
   "name": "python"
  }
 },
 "nbformat": 4,
 "nbformat_minor": 5
}
