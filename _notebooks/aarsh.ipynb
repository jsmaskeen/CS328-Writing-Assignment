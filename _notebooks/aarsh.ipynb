{
 "cells": [
  {
   "cell_type": "code",
   "execution_count": 1,
   "id": "2c64e153",
   "metadata": {},
   "outputs": [
    {
     "data": {
      "text/html": [
       "<button type=\"button\" class=\"btn btn-outline-danger\"  onclick=\"codeToggle();\">Toggle Code</button>"
      ],
      "text/plain": [
       "<IPython.core.display.HTML object>"
      ]
     },
     "execution_count": 1,
     "metadata": {},
     "output_type": "execute_result"
    }
   ],
   "source": [
    "# %pip install plotly\n",
    "# %pip install ipywidgets\n",
    "from IPython.display import HTML\n",
    "import plotly.io as pio\n",
    "pio.renderers.default = \"notebook_connected\"\n",
    "HTML('''<button type=\"button\" class=\"btn btn-outline-danger\"  onclick=\"codeToggle();\">Toggle Code</button>''')"
   ]
  },
  {
   "cell_type": "code",
   "execution_count": 2,
   "id": "6ac71e0b",
   "metadata": {},
   "outputs": [],
   "source": [
    "import pandas as pd\n",
    "import numpy as np\n",
    "import matplotlib.pyplot as plt\n",
    "import plotly.express as px\n",
    "import tarfile\n",
    "import io\n",
    "import requests\n",
    "from functools import reduce\n",
    "\n",
    "from raceplotly.plots import barplot\n"
   ]
  },
  {
   "cell_type": "code",
   "execution_count": 3,
   "id": "ac9c30c9",
   "metadata": {},
   "outputs": [],
   "source": [
    "# takes 1-3 mins\n",
    "country_dataframes = {}\n",
    "metadata_dataframes = {}\n",
    "country_code_region_df = None\n",
    "with tarfile.open(r'data\\wid_all_data.tar.gz', 'r:gz') as tar:\n",
    "    for member in tar.getmembers():\n",
    "        if member.isfile():\n",
    "            file_obj = tar.extractfile(member)\n",
    "            if file_obj is None:\n",
    "                continue\n",
    "            filename = member.name\n",
    "            if filename.endswith('.csv'):\n",
    "                df = pd.read_csv(file_obj,delimiter=';')\n",
    "                if 'WID_countries' in filename:\n",
    "                    country_code_region_df = df\n",
    "                elif 'metadata' in filename:\n",
    "                    metadata_dataframes[filename.split('/')[1][:-4]] = df\n",
    "                else:\n",
    "                    country_dataframes[filename.split('/')[1][:-4]] = df"
   ]
  },
  {
   "cell_type": "code",
   "execution_count": 94,
   "id": "d23dc297",
   "metadata": {},
   "outputs": [
    {
     "ename": "KeyError",
     "evalue": "'WID_data_QB'",
     "output_type": "error",
     "traceback": [
      "\u001b[31m---------------------------------------------------------------------------\u001b[39m",
      "\u001b[31mKeyError\u001b[39m                                  Traceback (most recent call last)",
      "\u001b[36mCell\u001b[39m\u001b[36m \u001b[39m\u001b[32mIn[94]\u001b[39m\u001b[32m, line 9\u001b[39m\n\u001b[32m      1\u001b[39m continent_codes = {\n\u001b[32m      2\u001b[39m     \u001b[33m\"\u001b[39m\u001b[33mAfrica\u001b[39m\u001b[33m\"\u001b[39m: \u001b[33m\"\u001b[39m\u001b[33mQB\u001b[39m\u001b[33m\"\u001b[39m,\n\u001b[32m      3\u001b[39m     \u001b[33m\"\u001b[39m\u001b[33mAsia\u001b[39m\u001b[33m\"\u001b[39m: \u001b[33m\"\u001b[39m\u001b[33mQD\u001b[39m\u001b[33m\"\u001b[39m,\n\u001b[32m   (...)\u001b[39m\u001b[32m      7\u001b[39m     \u001b[33m\"\u001b[39m\u001b[33mOceania\u001b[39m\u001b[33m\"\u001b[39m: \u001b[33m\"\u001b[39m\u001b[33mQF\u001b[39m\u001b[33m\"\u001b[39m\n\u001b[32m      8\u001b[39m }\n\u001b[32m----> \u001b[39m\u001b[32m9\u001b[39m continent_df = \u001b[43m{\u001b[49m\u001b[43mkey\u001b[49m\u001b[43m:\u001b[49m\u001b[43mcountry_dataframes\u001b[49m\u001b[43m[\u001b[49m\u001b[33;43mf\u001b[39;49m\u001b[33;43m'\u001b[39;49m\u001b[33;43mWID_data_\u001b[39;49m\u001b[38;5;132;43;01m{\u001b[39;49;00m\u001b[43mval\u001b[49m\u001b[38;5;132;43;01m}\u001b[39;49;00m\u001b[33;43m'\u001b[39;49m\u001b[43m]\u001b[49m\u001b[43m \u001b[49m\u001b[38;5;28;43;01mfor\u001b[39;49;00m\u001b[43m \u001b[49m\u001b[43mkey\u001b[49m\u001b[43m,\u001b[49m\u001b[43mval\u001b[49m\u001b[43m \u001b[49m\u001b[38;5;129;43;01min\u001b[39;49;00m\u001b[43m \u001b[49m\u001b[43mcontinent_codes\u001b[49m\u001b[43m.\u001b[49m\u001b[43mitems\u001b[49m\u001b[43m(\u001b[49m\u001b[43m)\u001b[49m\u001b[43m}\u001b[49m\n\u001b[32m     10\u001b[39m continent_meta_data_df = {key:metadata_dataframes[\u001b[33mf\u001b[39m\u001b[33m'\u001b[39m\u001b[33mWID_metadata_\u001b[39m\u001b[38;5;132;01m{\u001b[39;00mval\u001b[38;5;132;01m}\u001b[39;00m\u001b[33m'\u001b[39m] \u001b[38;5;28;01mfor\u001b[39;00m key,val \u001b[38;5;129;01min\u001b[39;00m continent_codes.items()}\n",
      "\u001b[36mCell\u001b[39m\u001b[36m \u001b[39m\u001b[32mIn[94]\u001b[39m\u001b[32m, line 9\u001b[39m, in \u001b[36m<dictcomp>\u001b[39m\u001b[34m(.0)\u001b[39m\n\u001b[32m      1\u001b[39m continent_codes = {\n\u001b[32m      2\u001b[39m     \u001b[33m\"\u001b[39m\u001b[33mAfrica\u001b[39m\u001b[33m\"\u001b[39m: \u001b[33m\"\u001b[39m\u001b[33mQB\u001b[39m\u001b[33m\"\u001b[39m,\n\u001b[32m      3\u001b[39m     \u001b[33m\"\u001b[39m\u001b[33mAsia\u001b[39m\u001b[33m\"\u001b[39m: \u001b[33m\"\u001b[39m\u001b[33mQD\u001b[39m\u001b[33m\"\u001b[39m,\n\u001b[32m   (...)\u001b[39m\u001b[32m      7\u001b[39m     \u001b[33m\"\u001b[39m\u001b[33mOceania\u001b[39m\u001b[33m\"\u001b[39m: \u001b[33m\"\u001b[39m\u001b[33mQF\u001b[39m\u001b[33m\"\u001b[39m\n\u001b[32m      8\u001b[39m }\n\u001b[32m----> \u001b[39m\u001b[32m9\u001b[39m continent_df = {key:\u001b[43mcountry_dataframes\u001b[49m\u001b[43m[\u001b[49m\u001b[33;43mf\u001b[39;49m\u001b[33;43m'\u001b[39;49m\u001b[33;43mWID_data_\u001b[39;49m\u001b[38;5;132;43;01m{\u001b[39;49;00m\u001b[43mval\u001b[49m\u001b[38;5;132;43;01m}\u001b[39;49;00m\u001b[33;43m'\u001b[39;49m\u001b[43m]\u001b[49m \u001b[38;5;28;01mfor\u001b[39;00m key,val \u001b[38;5;129;01min\u001b[39;00m continent_codes.items()}\n\u001b[32m     10\u001b[39m continent_meta_data_df = {key:metadata_dataframes[\u001b[33mf\u001b[39m\u001b[33m'\u001b[39m\u001b[33mWID_metadata_\u001b[39m\u001b[38;5;132;01m{\u001b[39;00mval\u001b[38;5;132;01m}\u001b[39;00m\u001b[33m'\u001b[39m] \u001b[38;5;28;01mfor\u001b[39;00m key,val \u001b[38;5;129;01min\u001b[39;00m continent_codes.items()}\n",
      "\u001b[31mKeyError\u001b[39m: 'WID_data_QB'"
     ]
    }
   ],
   "source": [
    "continent_codes = {\n",
    "    \"Africa\": \"QB\",\n",
    "    \"Asia\": \"QD\",\n",
    "    \"Europe\": \"QE\",\n",
    "    \"North America\": \"QP\",\n",
    "    \"South America\": \"QR\",\n",
    "    \"Oceania\": \"QF\"\n",
    "}\n",
    "continent_df = {key:country_dataframes[f'WID_data_{val}'] for key,val in continent_codes.items()}\n",
    "continent_meta_data_df = {key:metadata_dataframes[f'WID_metadata_{val}'] for key,val in continent_codes.items()}\n"
   ]
  },
  {
   "cell_type": "code",
   "execution_count": 239,
   "id": "41e9ba4a",
   "metadata": {},
   "outputs": [],
   "source": [
    "for var in good_vars:\n",
    "    if not all([var in continent_df[continent][\"variable\"].unique() for continent in continent_codes.keys()]):\n",
    "        print(f\"Variable {var} not in all continents\")"
   ]
  },
  {
   "cell_type": "code",
   "execution_count": null,
   "id": "676f4176",
   "metadata": {},
   "outputs": [],
   "source": [
    "def corr(vars, continent):\n",
    "    assert continent in continent_codes.keys(), f\"Continent {continent} not found\"\n",
    "    for var in vars:\n",
    "        assert var in continent_df[continent][\"variable\"].unique(), f\"Variable {var} not found in {continent}\"\n",
    "    df = continent_df[continent]\n",
    "    years_together = set()\n",
    "    valarrs = []\n",
    "    for var in vars:\n",
    "        var_df = df[df[\"variable\"] == var]\n",
    "        var_df = var_df.dropna(subset=[\"value\"])\n",
    "        assert len(var_df) == len(set(var_df[\"year\"])), f\"Variable {var} has duplicate years in {continent}\"\n",
    "        assert len(var_df) > 0, f\"Variable {var} has no data in {continent}\"\n",
    "        years_together = set(var_df[\"year\"]).intersection(years_together) if years_together else set(var_df[\"year\"])\n",
    "    \n",
    "    for var in vars:\n",
    "        var_df = df[df[\"variable\"] == var]\n",
    "        var_df = var_df.dropna(subset=[\"value\"])\n",
    "        var_df = var_df[var_df[\"year\"].isin(years_together)]\n",
    "        valarrs.append(var_df[\"value\"].values)\n",
    "    \n",
    "    assert len(set(len(arr) for arr in valarrs)) == 1, \"All variables must have the same number of years\"\n",
    "    assert len(valarrs) == len(vars), \"All variables must be present in the data\"\n",
    "    assert len(years_together) > 0, \"No years in common for the selected variables\"\n",
    "    \n",
    "    print(f\"Years in common for {continent}: {len(years_together)}\")\n",
    "    \n",
    "    # print(valarrs)\n",
    "    correlation = np.corrcoef(valarrs)\n",
    "    return correlation"
   ]
  },
  {
   "cell_type": "code",
   "execution_count": 245,
   "id": "99e88e48",
   "metadata": {},
   "outputs": [],
   "source": [
    "# FInding min value in a matrix\n",
    "def find_min_value(matrix):\n",
    "    min_value = float('inf')\n",
    "    min_index = (-1, -1)\n",
    "    for i in range(len(matrix)):\n",
    "        for j in range(len(matrix[i])):\n",
    "            if matrix[i][j] < min_value:\n",
    "                min_value = matrix[i][j]\n",
    "                min_index = (i, j)\n",
    "    return min_value, min_index\n",
    "\n",
    "min_value, min_index = find_min_value(cormats[2])"
   ]
  },
  {
   "cell_type": "code",
   "execution_count": null,
   "id": "c4d22246",
   "metadata": {},
   "outputs": [
    {
     "name": "stdout",
     "output_type": "stream",
     "text": [
      "265\n"
     ]
    }
   ],
   "source": [
    "prefixes = set()\n",
    "for i in good_vars:\n",
    "    prefixes.add(i[:-3])"
   ]
  },
  {
   "cell_type": "code",
   "execution_count": 247,
   "id": "ed4f3a33",
   "metadata": {},
   "outputs": [
    {
     "data": {
      "text/plain": [
       "(297, 298)"
      ]
     },
     "execution_count": 247,
     "metadata": {},
     "output_type": "execute_result"
    }
   ],
   "source": [
    "min_index"
   ]
  },
  {
   "cell_type": "code",
   "execution_count": 134,
   "id": "3d518b80",
   "metadata": {},
   "outputs": [],
   "source": [
    "def get_code(title_name):\n",
    "    if title_name in country_code_region_df[\"titlename\"].to_list():\n",
    "        return country_code_region_df[country_code_region_df[\"titlename\"]==title_name][\"alpha2\"].values\n",
    "    \n",
    "    elif title_name in country_code_region_df[\"shortname\"].to_list():\n",
    "            return country_code_region_df[country_code_region_df[\"shortname\"]==title_name][\"alpha2\"].values\n",
    "    else:\n",
    "        raise ValueError(f\"Country name '{title_name}' not found in country_code_region_df\")\n",
    "    "
   ]
  },
  {
   "cell_type": "code",
   "execution_count": null,
   "id": "78189888",
   "metadata": {},
   "outputs": [
    {
     "data": {
      "text/plain": [
       "array(['CN'], dtype=object)"
      ]
     },
     "execution_count": 135,
     "metadata": {},
     "output_type": "execute_result"
    }
   ],
   "source": []
  },
  {
   "cell_type": "code",
   "execution_count": 121,
   "id": "92823169",
   "metadata": {},
   "outputs": [
    {
     "data": {
      "text/plain": [
       "True"
      ]
     },
     "execution_count": 121,
     "metadata": {},
     "output_type": "execute_result"
    }
   ],
   "source": [
    "\"Andorra\" in country_code_region_df[\"titlename\"].to_list()"
   ]
  },
  {
   "cell_type": "code",
   "execution_count": null,
   "id": "ef2acabd",
   "metadata": {},
   "outputs": [
    {
     "data": {
      "text/html": [
       "<div>\n",
       "<style scoped>\n",
       "    .dataframe tbody tr th:only-of-type {\n",
       "        vertical-align: middle;\n",
       "    }\n",
       "\n",
       "    .dataframe tbody tr th {\n",
       "        vertical-align: top;\n",
       "    }\n",
       "\n",
       "    .dataframe thead th {\n",
       "        text-align: right;\n",
       "    }\n",
       "</style>\n",
       "<table border=\"1\" class=\"dataframe\">\n",
       "  <thead>\n",
       "    <tr style=\"text-align: right;\">\n",
       "      <th></th>\n",
       "      <th>alpha2</th>\n",
       "      <th>titlename</th>\n",
       "      <th>shortname</th>\n",
       "      <th>region</th>\n",
       "      <th>region2</th>\n",
       "    </tr>\n",
       "  </thead>\n",
       "  <tbody>\n",
       "    <tr>\n",
       "      <th>0</th>\n",
       "      <td>AD</td>\n",
       "      <td>Andorra</td>\n",
       "      <td>Andorra</td>\n",
       "      <td>Europe</td>\n",
       "      <td>Western Europe</td>\n",
       "    </tr>\n",
       "    <tr>\n",
       "      <th>1</th>\n",
       "      <td>AE</td>\n",
       "      <td>the United Arab Emirates</td>\n",
       "      <td>United Arab Emirates</td>\n",
       "      <td>Asia</td>\n",
       "      <td>West Asia</td>\n",
       "    </tr>\n",
       "    <tr>\n",
       "      <th>2</th>\n",
       "      <td>AF</td>\n",
       "      <td>Afghanistan</td>\n",
       "      <td>Afghanistan</td>\n",
       "      <td>Asia</td>\n",
       "      <td>South Asia</td>\n",
       "    </tr>\n",
       "    <tr>\n",
       "      <th>3</th>\n",
       "      <td>AG</td>\n",
       "      <td>Antigua and Barbuda</td>\n",
       "      <td>Antigua and Barbuda</td>\n",
       "      <td>Americas</td>\n",
       "      <td>Caribbean</td>\n",
       "    </tr>\n",
       "    <tr>\n",
       "      <th>4</th>\n",
       "      <td>AI</td>\n",
       "      <td>Anguilla</td>\n",
       "      <td>Anguilla</td>\n",
       "      <td>Americas</td>\n",
       "      <td>Caribbean</td>\n",
       "    </tr>\n",
       "    <tr>\n",
       "      <th>...</th>\n",
       "      <td>...</td>\n",
       "      <td>...</td>\n",
       "      <td>...</td>\n",
       "      <td>...</td>\n",
       "      <td>...</td>\n",
       "    </tr>\n",
       "    <tr>\n",
       "      <th>395</th>\n",
       "      <td>YU</td>\n",
       "      <td>Yugoslavia</td>\n",
       "      <td>Yugoslavia</td>\n",
       "      <td>Europe</td>\n",
       "      <td>Eastern Europe</td>\n",
       "    </tr>\n",
       "    <tr>\n",
       "      <th>396</th>\n",
       "      <td>ZA</td>\n",
       "      <td>South Africa</td>\n",
       "      <td>South Africa</td>\n",
       "      <td>Africa</td>\n",
       "      <td>South Africa</td>\n",
       "    </tr>\n",
       "    <tr>\n",
       "      <th>397</th>\n",
       "      <td>ZM</td>\n",
       "      <td>Zambia</td>\n",
       "      <td>Zambia</td>\n",
       "      <td>Africa</td>\n",
       "      <td>East Africa</td>\n",
       "    </tr>\n",
       "    <tr>\n",
       "      <th>398</th>\n",
       "      <td>ZW</td>\n",
       "      <td>Zimbabwe</td>\n",
       "      <td>Zimbabwe</td>\n",
       "      <td>Africa</td>\n",
       "      <td>East Africa</td>\n",
       "    </tr>\n",
       "    <tr>\n",
       "      <th>399</th>\n",
       "      <td>ZZ</td>\n",
       "      <td>Zanzibar</td>\n",
       "      <td>Zanzibar</td>\n",
       "      <td>Africa</td>\n",
       "      <td>East Africa</td>\n",
       "    </tr>\n",
       "  </tbody>\n",
       "</table>\n",
       "<p>400 rows × 5 columns</p>\n",
       "</div>"
      ],
      "text/plain": [
       "    alpha2                 titlename             shortname    region  \\\n",
       "0       AD                   Andorra               Andorra    Europe   \n",
       "1       AE  the United Arab Emirates  United Arab Emirates      Asia   \n",
       "2       AF               Afghanistan           Afghanistan      Asia   \n",
       "3       AG       Antigua and Barbuda   Antigua and Barbuda  Americas   \n",
       "4       AI                  Anguilla              Anguilla  Americas   \n",
       "..     ...                       ...                   ...       ...   \n",
       "395     YU                Yugoslavia            Yugoslavia    Europe   \n",
       "396     ZA              South Africa          South Africa    Africa   \n",
       "397     ZM                    Zambia                Zambia    Africa   \n",
       "398     ZW                  Zimbabwe              Zimbabwe    Africa   \n",
       "399     ZZ                  Zanzibar              Zanzibar    Africa   \n",
       "\n",
       "            region2  \n",
       "0    Western Europe  \n",
       "1         West Asia  \n",
       "2        South Asia  \n",
       "3         Caribbean  \n",
       "4         Caribbean  \n",
       "..              ...  \n",
       "395  Eastern Europe  \n",
       "396    South Africa  \n",
       "397     East Africa  \n",
       "398     East Africa  \n",
       "399     East Africa  \n",
       "\n",
       "[400 rows x 5 columns]"
      ]
     },
     "execution_count": 99,
     "metadata": {},
     "output_type": "execute_result"
    }
   ],
   "source": []
  },
  {
   "cell_type": "code",
   "execution_count": 101,
   "id": "4596051b",
   "metadata": {},
   "outputs": [
    {
     "data": {
      "text/html": [
       "<div>\n",
       "<style scoped>\n",
       "    .dataframe tbody tr th:only-of-type {\n",
       "        vertical-align: middle;\n",
       "    }\n",
       "\n",
       "    .dataframe tbody tr th {\n",
       "        vertical-align: top;\n",
       "    }\n",
       "\n",
       "    .dataframe thead th {\n",
       "        text-align: right;\n",
       "    }\n",
       "</style>\n",
       "<table border=\"1\" class=\"dataframe\">\n",
       "  <thead>\n",
       "    <tr style=\"text-align: right;\">\n",
       "      <th></th>\n",
       "      <th>alpha2</th>\n",
       "      <th>titlename</th>\n",
       "      <th>shortname</th>\n",
       "      <th>region</th>\n",
       "      <th>region2</th>\n",
       "    </tr>\n",
       "  </thead>\n",
       "  <tbody>\n",
       "    <tr>\n",
       "      <th>216</th>\n",
       "      <td>QB</td>\n",
       "      <td>Africa</td>\n",
       "      <td>Africa</td>\n",
       "      <td>NaN</td>\n",
       "      <td>NaN</td>\n",
       "    </tr>\n",
       "  </tbody>\n",
       "</table>\n",
       "</div>"
      ],
      "text/plain": [
       "    alpha2 titlename shortname region region2\n",
       "216     QB    Africa    Africa    NaN     NaN"
      ]
     },
     "execution_count": 101,
     "metadata": {},
     "output_type": "execute_result"
    }
   ],
   "source": [
    "country_code_region_df[country_code_region_df[\"alpha2\"] == \"QB\"]"
   ]
  },
  {
   "cell_type": "code",
   "execution_count": 102,
   "id": "1d13a28a",
   "metadata": {},
   "outputs": [
    {
     "name": "stdout",
     "output_type": "stream",
     "text": [
      "45      CN-RU\n",
      "46      CN-UR\n",
      "57      DE-BD\n",
      "58      DE-BY\n",
      "59      DE-HB\n",
      "        ...  \n",
      "389    XQ-MER\n",
      "390        XR\n",
      "391    XR-MER\n",
      "392        XS\n",
      "393    XS-MER\n",
      "Name: alpha2, Length: 159, dtype: object\n"
     ]
    }
   ],
   "source": [
    "print(deleted_rows)"
   ]
  },
  {
   "cell_type": "code",
   "execution_count": 5,
   "id": "a4c6c1aa",
   "metadata": {},
   "outputs": [],
   "source": [
    "deleted_rows = country_code_region_df[country_code_region_df.isnull().any(axis=1)]['alpha2']\n",
    "for i in deleted_rows:\n",
    "    try:\n",
    "        country_dataframes.pop(f\"WID_data_{i}\")\n",
    "    except:\n",
    "        pass"
   ]
  },
  {
   "cell_type": "code",
   "execution_count": 96,
   "id": "a0f3aa85",
   "metadata": {},
   "outputs": [
    {
     "name": "stdout",
     "output_type": "stream",
     "text": [
      "159\n"
     ]
    }
   ],
   "source": [
    "print(len(deleted_rows))"
   ]
  },
  {
   "cell_type": "code",
   "execution_count": 6,
   "id": "11e8d1e5",
   "metadata": {},
   "outputs": [
    {
     "data": {
      "text/html": [
       "        <script type=\"text/javascript\">\n",
       "        window.PlotlyConfig = {MathJaxConfig: 'local'};\n",
       "        if (window.MathJax && window.MathJax.Hub && window.MathJax.Hub.Config) {window.MathJax.Hub.Config({SVG: {font: \"STIX-Web\"}});}\n",
       "        </script>\n",
       "        <script type=\"module\">import \"https://cdn.plot.ly/plotly-3.0.1.min\"</script>\n",
       "        "
      ]
     },
     "metadata": {},
     "output_type": "display_data"
    },
    {
     "data": {
      "text/html": [
       "<div>            <script src=\"https://cdnjs.cloudflare.com/ajax/libs/mathjax/2.7.5/MathJax.js?config=TeX-AMS-MML_SVG\"></script><script type=\"text/javascript\">if (window.MathJax && window.MathJax.Hub && window.MathJax.Hub.Config) {window.MathJax.Hub.Config({SVG: {font: \"STIX-Web\"}});}</script>                <script type=\"text/javascript\">window.PlotlyConfig = {MathJaxConfig: 'local'};</script>\n",
       "        <script charset=\"utf-8\" src=\"https://cdn.plot.ly/plotly-3.0.1.min.js\"></script>                <div id=\"6663bfb5-d43a-445f-b60b-ab0ff7074798\" class=\"plotly-graph-div\" style=\"height:525px; width:100%;\"></div>            <script type=\"text/javascript\">                window.PLOTLYENV=window.PLOTLYENV || {};                                if (document.getElementById(\"6663bfb5-d43a-445f-b60b-ab0ff7074798\")) {                    Plotly.newPlot(                        \"6663bfb5-d43a-445f-b60b-ab0ff7074798\",                        [{\"cliponaxis\":false,\"hoverinfo\":\"all\",\"marker\":{\"color\":[\"rgb(120, 123, 89)\",\"rgb(150, 137, 65)\",\"rgb(229, 182, 216)\",\"rgb(138, 69, 251)\",\"rgb(43, 228, 121)\",\"rgb(65, 225, 119)\"]},\"orientation\":\"h\",\"textangle\":0,\"textposition\":\"outside\",\"texttemplate\":\"%{y}\\u003cbr\\u003e%{x:.4s}\",\"x\":{\"dtype\":\"f8\",\"bdata\":\"AAAAwHkbPkIAAAAATbtBQgCAfI\\u002fJKVdCAACALhLIXEIAAFRonCh0QgAA4IXKdoJC\"},\"y\":[\"Oceania\",\"North America\",\"Africa\",\"South America\",\"Asia\",\"Europe\"],\"type\":\"bar\"}],                        {\"bargap\":0.15,\"font\":{\"size\":14},\"plot_bgcolor\":\"#FFFFFF\",\"title\":{\"text\":\"GDP by Continent\"},\"xaxis\":{\"range\":[0,63289441371136.0],\"showline\":true,\"visible\":true,\"title\":{\"text\":\"GDP (EUR Trillions)\"},\"showticklabels\":true},\"yaxis\":{\"showline\":false,\"visible\":true,\"title\":{\"text\":\"Continent\"},\"showticklabels\":false},\"template\":{\"data\":{\"histogram2dcontour\":[{\"type\":\"histogram2dcontour\",\"colorbar\":{\"outlinewidth\":0,\"ticks\":\"\"},\"colorscale\":[[0.0,\"#0d0887\"],[0.1111111111111111,\"#46039f\"],[0.2222222222222222,\"#7201a8\"],[0.3333333333333333,\"#9c179e\"],[0.4444444444444444,\"#bd3786\"],[0.5555555555555556,\"#d8576b\"],[0.6666666666666666,\"#ed7953\"],[0.7777777777777778,\"#fb9f3a\"],[0.8888888888888888,\"#fdca26\"],[1.0,\"#f0f921\"]]}],\"choropleth\":[{\"type\":\"choropleth\",\"colorbar\":{\"outlinewidth\":0,\"ticks\":\"\"}}],\"histogram2d\":[{\"type\":\"histogram2d\",\"colorbar\":{\"outlinewidth\":0,\"ticks\":\"\"},\"colorscale\":[[0.0,\"#0d0887\"],[0.1111111111111111,\"#46039f\"],[0.2222222222222222,\"#7201a8\"],[0.3333333333333333,\"#9c179e\"],[0.4444444444444444,\"#bd3786\"],[0.5555555555555556,\"#d8576b\"],[0.6666666666666666,\"#ed7953\"],[0.7777777777777778,\"#fb9f3a\"],[0.8888888888888888,\"#fdca26\"],[1.0,\"#f0f921\"]]}],\"heatmap\":[{\"type\":\"heatmap\",\"colorbar\":{\"outlinewidth\":0,\"ticks\":\"\"},\"colorscale\":[[0.0,\"#0d0887\"],[0.1111111111111111,\"#46039f\"],[0.2222222222222222,\"#7201a8\"],[0.3333333333333333,\"#9c179e\"],[0.4444444444444444,\"#bd3786\"],[0.5555555555555556,\"#d8576b\"],[0.6666666666666666,\"#ed7953\"],[0.7777777777777778,\"#fb9f3a\"],[0.8888888888888888,\"#fdca26\"],[1.0,\"#f0f921\"]]}],\"contourcarpet\":[{\"type\":\"contourcarpet\",\"colorbar\":{\"outlinewidth\":0,\"ticks\":\"\"}}],\"contour\":[{\"type\":\"contour\",\"colorbar\":{\"outlinewidth\":0,\"ticks\":\"\"},\"colorscale\":[[0.0,\"#0d0887\"],[0.1111111111111111,\"#46039f\"],[0.2222222222222222,\"#7201a8\"],[0.3333333333333333,\"#9c179e\"],[0.4444444444444444,\"#bd3786\"],[0.5555555555555556,\"#d8576b\"],[0.6666666666666666,\"#ed7953\"],[0.7777777777777778,\"#fb9f3a\"],[0.8888888888888888,\"#fdca26\"],[1.0,\"#f0f921\"]]}],\"surface\":[{\"type\":\"surface\",\"colorbar\":{\"outlinewidth\":0,\"ticks\":\"\"},\"colorscale\":[[0.0,\"#0d0887\"],[0.1111111111111111,\"#46039f\"],[0.2222222222222222,\"#7201a8\"],[0.3333333333333333,\"#9c179e\"],[0.4444444444444444,\"#bd3786\"],[0.5555555555555556,\"#d8576b\"],[0.6666666666666666,\"#ed7953\"],[0.7777777777777778,\"#fb9f3a\"],[0.8888888888888888,\"#fdca26\"],[1.0,\"#f0f921\"]]}],\"mesh3d\":[{\"type\":\"mesh3d\",\"colorbar\":{\"outlinewidth\":0,\"ticks\":\"\"}}],\"scatter\":[{\"fillpattern\":{\"fillmode\":\"overlay\",\"size\":10,\"solidity\":0.2},\"type\":\"scatter\"}],\"parcoords\":[{\"type\":\"parcoords\",\"line\":{\"colorbar\":{\"outlinewidth\":0,\"ticks\":\"\"}}}],\"scatterpolargl\":[{\"type\":\"scatterpolargl\",\"marker\":{\"colorbar\":{\"outlinewidth\":0,\"ticks\":\"\"}}}],\"bar\":[{\"error_x\":{\"color\":\"#2a3f5f\"},\"error_y\":{\"color\":\"#2a3f5f\"},\"marker\":{\"line\":{\"color\":\"#E5ECF6\",\"width\":0.5},\"pattern\":{\"fillmode\":\"overlay\",\"size\":10,\"solidity\":0.2}},\"type\":\"bar\"}],\"scattergeo\":[{\"type\":\"scattergeo\",\"marker\":{\"colorbar\":{\"outlinewidth\":0,\"ticks\":\"\"}}}],\"scatterpolar\":[{\"type\":\"scatterpolar\",\"marker\":{\"colorbar\":{\"outlinewidth\":0,\"ticks\":\"\"}}}],\"histogram\":[{\"marker\":{\"pattern\":{\"fillmode\":\"overlay\",\"size\":10,\"solidity\":0.2}},\"type\":\"histogram\"}],\"scattergl\":[{\"type\":\"scattergl\",\"marker\":{\"colorbar\":{\"outlinewidth\":0,\"ticks\":\"\"}}}],\"scatter3d\":[{\"type\":\"scatter3d\",\"line\":{\"colorbar\":{\"outlinewidth\":0,\"ticks\":\"\"}},\"marker\":{\"colorbar\":{\"outlinewidth\":0,\"ticks\":\"\"}}}],\"scattermap\":[{\"type\":\"scattermap\",\"marker\":{\"colorbar\":{\"outlinewidth\":0,\"ticks\":\"\"}}}],\"scattermapbox\":[{\"type\":\"scattermapbox\",\"marker\":{\"colorbar\":{\"outlinewidth\":0,\"ticks\":\"\"}}}],\"scatterternary\":[{\"type\":\"scatterternary\",\"marker\":{\"colorbar\":{\"outlinewidth\":0,\"ticks\":\"\"}}}],\"scattercarpet\":[{\"type\":\"scattercarpet\",\"marker\":{\"colorbar\":{\"outlinewidth\":0,\"ticks\":\"\"}}}],\"carpet\":[{\"aaxis\":{\"endlinecolor\":\"#2a3f5f\",\"gridcolor\":\"white\",\"linecolor\":\"white\",\"minorgridcolor\":\"white\",\"startlinecolor\":\"#2a3f5f\"},\"baxis\":{\"endlinecolor\":\"#2a3f5f\",\"gridcolor\":\"white\",\"linecolor\":\"white\",\"minorgridcolor\":\"white\",\"startlinecolor\":\"#2a3f5f\"},\"type\":\"carpet\"}],\"table\":[{\"cells\":{\"fill\":{\"color\":\"#EBF0F8\"},\"line\":{\"color\":\"white\"}},\"header\":{\"fill\":{\"color\":\"#C8D4E3\"},\"line\":{\"color\":\"white\"}},\"type\":\"table\"}],\"barpolar\":[{\"marker\":{\"line\":{\"color\":\"#E5ECF6\",\"width\":0.5},\"pattern\":{\"fillmode\":\"overlay\",\"size\":10,\"solidity\":0.2}},\"type\":\"barpolar\"}],\"pie\":[{\"automargin\":true,\"type\":\"pie\"}]},\"layout\":{\"autotypenumbers\":\"strict\",\"colorway\":[\"#636efa\",\"#EF553B\",\"#00cc96\",\"#ab63fa\",\"#FFA15A\",\"#19d3f3\",\"#FF6692\",\"#B6E880\",\"#FF97FF\",\"#FECB52\"],\"font\":{\"color\":\"#2a3f5f\"},\"hovermode\":\"closest\",\"hoverlabel\":{\"align\":\"left\"},\"paper_bgcolor\":\"white\",\"plot_bgcolor\":\"#E5ECF6\",\"polar\":{\"bgcolor\":\"#E5ECF6\",\"angularaxis\":{\"gridcolor\":\"white\",\"linecolor\":\"white\",\"ticks\":\"\"},\"radialaxis\":{\"gridcolor\":\"white\",\"linecolor\":\"white\",\"ticks\":\"\"}},\"ternary\":{\"bgcolor\":\"#E5ECF6\",\"aaxis\":{\"gridcolor\":\"white\",\"linecolor\":\"white\",\"ticks\":\"\"},\"baxis\":{\"gridcolor\":\"white\",\"linecolor\":\"white\",\"ticks\":\"\"},\"caxis\":{\"gridcolor\":\"white\",\"linecolor\":\"white\",\"ticks\":\"\"}},\"coloraxis\":{\"colorbar\":{\"outlinewidth\":0,\"ticks\":\"\"}},\"colorscale\":{\"sequential\":[[0.0,\"#0d0887\"],[0.1111111111111111,\"#46039f\"],[0.2222222222222222,\"#7201a8\"],[0.3333333333333333,\"#9c179e\"],[0.4444444444444444,\"#bd3786\"],[0.5555555555555556,\"#d8576b\"],[0.6666666666666666,\"#ed7953\"],[0.7777777777777778,\"#fb9f3a\"],[0.8888888888888888,\"#fdca26\"],[1.0,\"#f0f921\"]],\"sequentialminus\":[[0.0,\"#0d0887\"],[0.1111111111111111,\"#46039f\"],[0.2222222222222222,\"#7201a8\"],[0.3333333333333333,\"#9c179e\"],[0.4444444444444444,\"#bd3786\"],[0.5555555555555556,\"#d8576b\"],[0.6666666666666666,\"#ed7953\"],[0.7777777777777778,\"#fb9f3a\"],[0.8888888888888888,\"#fdca26\"],[1.0,\"#f0f921\"]],\"diverging\":[[0,\"#8e0152\"],[0.1,\"#c51b7d\"],[0.2,\"#de77ae\"],[0.3,\"#f1b6da\"],[0.4,\"#fde0ef\"],[0.5,\"#f7f7f7\"],[0.6,\"#e6f5d0\"],[0.7,\"#b8e186\"],[0.8,\"#7fbc41\"],[0.9,\"#4d9221\"],[1,\"#276419\"]]},\"xaxis\":{\"gridcolor\":\"white\",\"linecolor\":\"white\",\"ticks\":\"\",\"title\":{\"standoff\":15},\"zerolinecolor\":\"white\",\"automargin\":true,\"zerolinewidth\":2},\"yaxis\":{\"gridcolor\":\"white\",\"linecolor\":\"white\",\"ticks\":\"\",\"title\":{\"standoff\":15},\"zerolinecolor\":\"white\",\"automargin\":true,\"zerolinewidth\":2},\"scene\":{\"xaxis\":{\"backgroundcolor\":\"#E5ECF6\",\"gridcolor\":\"white\",\"linecolor\":\"white\",\"showbackground\":true,\"ticks\":\"\",\"zerolinecolor\":\"white\",\"gridwidth\":2},\"yaxis\":{\"backgroundcolor\":\"#E5ECF6\",\"gridcolor\":\"white\",\"linecolor\":\"white\",\"showbackground\":true,\"ticks\":\"\",\"zerolinecolor\":\"white\",\"gridwidth\":2},\"zaxis\":{\"backgroundcolor\":\"#E5ECF6\",\"gridcolor\":\"white\",\"linecolor\":\"white\",\"showbackground\":true,\"ticks\":\"\",\"zerolinecolor\":\"white\",\"gridwidth\":2}},\"shapedefaults\":{\"line\":{\"color\":\"#2a3f5f\"}},\"annotationdefaults\":{\"arrowcolor\":\"#2a3f5f\",\"arrowhead\":0,\"arrowwidth\":1},\"geo\":{\"bgcolor\":\"white\",\"landcolor\":\"#E5ECF6\",\"subunitcolor\":\"white\",\"showland\":true,\"showlakes\":true,\"lakecolor\":\"white\"},\"title\":{\"x\":0.05},\"mapbox\":{\"style\":\"light\"}}},\"updatemenus\":[{\"buttons\":[{\"args\":[null,{\"frame\":{\"duration\":300,\"redraw\":false},\"fromcurrent\":true,\"transition\":{\"duration\":300,\"easing\":\"quadratic-in-out\"}}],\"label\":\"Play\",\"method\":\"animate\"},{\"args\":[[null],{\"frame\":{\"duration\":0,\"redraw\":false},\"mode\":\"immediate\",\"transition\":{\"duration\":0}}],\"label\":\"Pause\",\"method\":\"animate\"}],\"direction\":\"left\",\"pad\":{\"r\":10,\"t\":87},\"showactive\":true,\"type\":\"buttons\",\"x\":0.1,\"xanchor\":\"right\",\"y\":0,\"yanchor\":\"top\"}],\"sliders\":[{\"active\":0,\"currentvalue\":{\"font\":{\"size\":20},\"prefix\":\"Year: \",\"visible\":true,\"xanchor\":\"right\"},\"len\":0.9,\"pad\":{\"b\":10,\"t\":50},\"steps\":[{\"args\":[[\"1950\"],{\"frame\":{\"duration\":300,\"redraw\":false},\"mode\":\"immediate\",\"transition\":{\"duration\":300}}],\"label\":\"1950\",\"method\":\"animate\"},{\"args\":[[\"1951\"],{\"frame\":{\"duration\":300,\"redraw\":false},\"mode\":\"immediate\",\"transition\":{\"duration\":300}}],\"label\":\"1951\",\"method\":\"animate\"},{\"args\":[[\"1952\"],{\"frame\":{\"duration\":300,\"redraw\":false},\"mode\":\"immediate\",\"transition\":{\"duration\":300}}],\"label\":\"1952\",\"method\":\"animate\"},{\"args\":[[\"1953\"],{\"frame\":{\"duration\":300,\"redraw\":false},\"mode\":\"immediate\",\"transition\":{\"duration\":300}}],\"label\":\"1953\",\"method\":\"animate\"},{\"args\":[[\"1954\"],{\"frame\":{\"duration\":300,\"redraw\":false},\"mode\":\"immediate\",\"transition\":{\"duration\":300}}],\"label\":\"1954\",\"method\":\"animate\"},{\"args\":[[\"1955\"],{\"frame\":{\"duration\":300,\"redraw\":false},\"mode\":\"immediate\",\"transition\":{\"duration\":300}}],\"label\":\"1955\",\"method\":\"animate\"},{\"args\":[[\"1956\"],{\"frame\":{\"duration\":300,\"redraw\":false},\"mode\":\"immediate\",\"transition\":{\"duration\":300}}],\"label\":\"1956\",\"method\":\"animate\"},{\"args\":[[\"1957\"],{\"frame\":{\"duration\":300,\"redraw\":false},\"mode\":\"immediate\",\"transition\":{\"duration\":300}}],\"label\":\"1957\",\"method\":\"animate\"},{\"args\":[[\"1958\"],{\"frame\":{\"duration\":300,\"redraw\":false},\"mode\":\"immediate\",\"transition\":{\"duration\":300}}],\"label\":\"1958\",\"method\":\"animate\"},{\"args\":[[\"1959\"],{\"frame\":{\"duration\":300,\"redraw\":false},\"mode\":\"immediate\",\"transition\":{\"duration\":300}}],\"label\":\"1959\",\"method\":\"animate\"},{\"args\":[[\"1960\"],{\"frame\":{\"duration\":300,\"redraw\":false},\"mode\":\"immediate\",\"transition\":{\"duration\":300}}],\"label\":\"1960\",\"method\":\"animate\"},{\"args\":[[\"1961\"],{\"frame\":{\"duration\":300,\"redraw\":false},\"mode\":\"immediate\",\"transition\":{\"duration\":300}}],\"label\":\"1961\",\"method\":\"animate\"},{\"args\":[[\"1962\"],{\"frame\":{\"duration\":300,\"redraw\":false},\"mode\":\"immediate\",\"transition\":{\"duration\":300}}],\"label\":\"1962\",\"method\":\"animate\"},{\"args\":[[\"1963\"],{\"frame\":{\"duration\":300,\"redraw\":false},\"mode\":\"immediate\",\"transition\":{\"duration\":300}}],\"label\":\"1963\",\"method\":\"animate\"},{\"args\":[[\"1964\"],{\"frame\":{\"duration\":300,\"redraw\":false},\"mode\":\"immediate\",\"transition\":{\"duration\":300}}],\"label\":\"1964\",\"method\":\"animate\"},{\"args\":[[\"1965\"],{\"frame\":{\"duration\":300,\"redraw\":false},\"mode\":\"immediate\",\"transition\":{\"duration\":300}}],\"label\":\"1965\",\"method\":\"animate\"},{\"args\":[[\"1966\"],{\"frame\":{\"duration\":300,\"redraw\":false},\"mode\":\"immediate\",\"transition\":{\"duration\":300}}],\"label\":\"1966\",\"method\":\"animate\"},{\"args\":[[\"1967\"],{\"frame\":{\"duration\":300,\"redraw\":false},\"mode\":\"immediate\",\"transition\":{\"duration\":300}}],\"label\":\"1967\",\"method\":\"animate\"},{\"args\":[[\"1968\"],{\"frame\":{\"duration\":300,\"redraw\":false},\"mode\":\"immediate\",\"transition\":{\"duration\":300}}],\"label\":\"1968\",\"method\":\"animate\"},{\"args\":[[\"1969\"],{\"frame\":{\"duration\":300,\"redraw\":false},\"mode\":\"immediate\",\"transition\":{\"duration\":300}}],\"label\":\"1969\",\"method\":\"animate\"},{\"args\":[[\"1970\"],{\"frame\":{\"duration\":300,\"redraw\":false},\"mode\":\"immediate\",\"transition\":{\"duration\":300}}],\"label\":\"1970\",\"method\":\"animate\"},{\"args\":[[\"1971\"],{\"frame\":{\"duration\":300,\"redraw\":false},\"mode\":\"immediate\",\"transition\":{\"duration\":300}}],\"label\":\"1971\",\"method\":\"animate\"},{\"args\":[[\"1972\"],{\"frame\":{\"duration\":300,\"redraw\":false},\"mode\":\"immediate\",\"transition\":{\"duration\":300}}],\"label\":\"1972\",\"method\":\"animate\"},{\"args\":[[\"1973\"],{\"frame\":{\"duration\":300,\"redraw\":false},\"mode\":\"immediate\",\"transition\":{\"duration\":300}}],\"label\":\"1973\",\"method\":\"animate\"},{\"args\":[[\"1974\"],{\"frame\":{\"duration\":300,\"redraw\":false},\"mode\":\"immediate\",\"transition\":{\"duration\":300}}],\"label\":\"1974\",\"method\":\"animate\"},{\"args\":[[\"1975\"],{\"frame\":{\"duration\":300,\"redraw\":false},\"mode\":\"immediate\",\"transition\":{\"duration\":300}}],\"label\":\"1975\",\"method\":\"animate\"},{\"args\":[[\"1976\"],{\"frame\":{\"duration\":300,\"redraw\":false},\"mode\":\"immediate\",\"transition\":{\"duration\":300}}],\"label\":\"1976\",\"method\":\"animate\"},{\"args\":[[\"1977\"],{\"frame\":{\"duration\":300,\"redraw\":false},\"mode\":\"immediate\",\"transition\":{\"duration\":300}}],\"label\":\"1977\",\"method\":\"animate\"},{\"args\":[[\"1978\"],{\"frame\":{\"duration\":300,\"redraw\":false},\"mode\":\"immediate\",\"transition\":{\"duration\":300}}],\"label\":\"1978\",\"method\":\"animate\"},{\"args\":[[\"1979\"],{\"frame\":{\"duration\":300,\"redraw\":false},\"mode\":\"immediate\",\"transition\":{\"duration\":300}}],\"label\":\"1979\",\"method\":\"animate\"},{\"args\":[[\"1980\"],{\"frame\":{\"duration\":300,\"redraw\":false},\"mode\":\"immediate\",\"transition\":{\"duration\":300}}],\"label\":\"1980\",\"method\":\"animate\"},{\"args\":[[\"1981\"],{\"frame\":{\"duration\":300,\"redraw\":false},\"mode\":\"immediate\",\"transition\":{\"duration\":300}}],\"label\":\"1981\",\"method\":\"animate\"},{\"args\":[[\"1982\"],{\"frame\":{\"duration\":300,\"redraw\":false},\"mode\":\"immediate\",\"transition\":{\"duration\":300}}],\"label\":\"1982\",\"method\":\"animate\"},{\"args\":[[\"1983\"],{\"frame\":{\"duration\":300,\"redraw\":false},\"mode\":\"immediate\",\"transition\":{\"duration\":300}}],\"label\":\"1983\",\"method\":\"animate\"},{\"args\":[[\"1984\"],{\"frame\":{\"duration\":300,\"redraw\":false},\"mode\":\"immediate\",\"transition\":{\"duration\":300}}],\"label\":\"1984\",\"method\":\"animate\"},{\"args\":[[\"1985\"],{\"frame\":{\"duration\":300,\"redraw\":false},\"mode\":\"immediate\",\"transition\":{\"duration\":300}}],\"label\":\"1985\",\"method\":\"animate\"},{\"args\":[[\"1986\"],{\"frame\":{\"duration\":300,\"redraw\":false},\"mode\":\"immediate\",\"transition\":{\"duration\":300}}],\"label\":\"1986\",\"method\":\"animate\"},{\"args\":[[\"1987\"],{\"frame\":{\"duration\":300,\"redraw\":false},\"mode\":\"immediate\",\"transition\":{\"duration\":300}}],\"label\":\"1987\",\"method\":\"animate\"},{\"args\":[[\"1988\"],{\"frame\":{\"duration\":300,\"redraw\":false},\"mode\":\"immediate\",\"transition\":{\"duration\":300}}],\"label\":\"1988\",\"method\":\"animate\"},{\"args\":[[\"1989\"],{\"frame\":{\"duration\":300,\"redraw\":false},\"mode\":\"immediate\",\"transition\":{\"duration\":300}}],\"label\":\"1989\",\"method\":\"animate\"},{\"args\":[[\"1990\"],{\"frame\":{\"duration\":300,\"redraw\":false},\"mode\":\"immediate\",\"transition\":{\"duration\":300}}],\"label\":\"1990\",\"method\":\"animate\"},{\"args\":[[\"1991\"],{\"frame\":{\"duration\":300,\"redraw\":false},\"mode\":\"immediate\",\"transition\":{\"duration\":300}}],\"label\":\"1991\",\"method\":\"animate\"},{\"args\":[[\"1992\"],{\"frame\":{\"duration\":300,\"redraw\":false},\"mode\":\"immediate\",\"transition\":{\"duration\":300}}],\"label\":\"1992\",\"method\":\"animate\"},{\"args\":[[\"1993\"],{\"frame\":{\"duration\":300,\"redraw\":false},\"mode\":\"immediate\",\"transition\":{\"duration\":300}}],\"label\":\"1993\",\"method\":\"animate\"},{\"args\":[[\"1994\"],{\"frame\":{\"duration\":300,\"redraw\":false},\"mode\":\"immediate\",\"transition\":{\"duration\":300}}],\"label\":\"1994\",\"method\":\"animate\"},{\"args\":[[\"1995\"],{\"frame\":{\"duration\":300,\"redraw\":false},\"mode\":\"immediate\",\"transition\":{\"duration\":300}}],\"label\":\"1995\",\"method\":\"animate\"},{\"args\":[[\"1996\"],{\"frame\":{\"duration\":300,\"redraw\":false},\"mode\":\"immediate\",\"transition\":{\"duration\":300}}],\"label\":\"1996\",\"method\":\"animate\"},{\"args\":[[\"1997\"],{\"frame\":{\"duration\":300,\"redraw\":false},\"mode\":\"immediate\",\"transition\":{\"duration\":300}}],\"label\":\"1997\",\"method\":\"animate\"},{\"args\":[[\"1998\"],{\"frame\":{\"duration\":300,\"redraw\":false},\"mode\":\"immediate\",\"transition\":{\"duration\":300}}],\"label\":\"1998\",\"method\":\"animate\"},{\"args\":[[\"1999\"],{\"frame\":{\"duration\":300,\"redraw\":false},\"mode\":\"immediate\",\"transition\":{\"duration\":300}}],\"label\":\"1999\",\"method\":\"animate\"},{\"args\":[[\"2000\"],{\"frame\":{\"duration\":300,\"redraw\":false},\"mode\":\"immediate\",\"transition\":{\"duration\":300}}],\"label\":\"2000\",\"method\":\"animate\"},{\"args\":[[\"2001\"],{\"frame\":{\"duration\":300,\"redraw\":false},\"mode\":\"immediate\",\"transition\":{\"duration\":300}}],\"label\":\"2001\",\"method\":\"animate\"},{\"args\":[[\"2002\"],{\"frame\":{\"duration\":300,\"redraw\":false},\"mode\":\"immediate\",\"transition\":{\"duration\":300}}],\"label\":\"2002\",\"method\":\"animate\"},{\"args\":[[\"2003\"],{\"frame\":{\"duration\":300,\"redraw\":false},\"mode\":\"immediate\",\"transition\":{\"duration\":300}}],\"label\":\"2003\",\"method\":\"animate\"},{\"args\":[[\"2004\"],{\"frame\":{\"duration\":300,\"redraw\":false},\"mode\":\"immediate\",\"transition\":{\"duration\":300}}],\"label\":\"2004\",\"method\":\"animate\"},{\"args\":[[\"2005\"],{\"frame\":{\"duration\":300,\"redraw\":false},\"mode\":\"immediate\",\"transition\":{\"duration\":300}}],\"label\":\"2005\",\"method\":\"animate\"},{\"args\":[[\"2006\"],{\"frame\":{\"duration\":300,\"redraw\":false},\"mode\":\"immediate\",\"transition\":{\"duration\":300}}],\"label\":\"2006\",\"method\":\"animate\"},{\"args\":[[\"2007\"],{\"frame\":{\"duration\":300,\"redraw\":false},\"mode\":\"immediate\",\"transition\":{\"duration\":300}}],\"label\":\"2007\",\"method\":\"animate\"},{\"args\":[[\"2008\"],{\"frame\":{\"duration\":300,\"redraw\":false},\"mode\":\"immediate\",\"transition\":{\"duration\":300}}],\"label\":\"2008\",\"method\":\"animate\"},{\"args\":[[\"2009\"],{\"frame\":{\"duration\":300,\"redraw\":false},\"mode\":\"immediate\",\"transition\":{\"duration\":300}}],\"label\":\"2009\",\"method\":\"animate\"},{\"args\":[[\"2010\"],{\"frame\":{\"duration\":300,\"redraw\":false},\"mode\":\"immediate\",\"transition\":{\"duration\":300}}],\"label\":\"2010\",\"method\":\"animate\"},{\"args\":[[\"2011\"],{\"frame\":{\"duration\":300,\"redraw\":false},\"mode\":\"immediate\",\"transition\":{\"duration\":300}}],\"label\":\"2011\",\"method\":\"animate\"},{\"args\":[[\"2012\"],{\"frame\":{\"duration\":300,\"redraw\":false},\"mode\":\"immediate\",\"transition\":{\"duration\":300}}],\"label\":\"2012\",\"method\":\"animate\"},{\"args\":[[\"2013\"],{\"frame\":{\"duration\":300,\"redraw\":false},\"mode\":\"immediate\",\"transition\":{\"duration\":300}}],\"label\":\"2013\",\"method\":\"animate\"},{\"args\":[[\"2014\"],{\"frame\":{\"duration\":300,\"redraw\":false},\"mode\":\"immediate\",\"transition\":{\"duration\":300}}],\"label\":\"2014\",\"method\":\"animate\"},{\"args\":[[\"2015\"],{\"frame\":{\"duration\":300,\"redraw\":false},\"mode\":\"immediate\",\"transition\":{\"duration\":300}}],\"label\":\"2015\",\"method\":\"animate\"},{\"args\":[[\"2016\"],{\"frame\":{\"duration\":300,\"redraw\":false},\"mode\":\"immediate\",\"transition\":{\"duration\":300}}],\"label\":\"2016\",\"method\":\"animate\"},{\"args\":[[\"2017\"],{\"frame\":{\"duration\":300,\"redraw\":false},\"mode\":\"immediate\",\"transition\":{\"duration\":300}}],\"label\":\"2017\",\"method\":\"animate\"},{\"args\":[[\"2018\"],{\"frame\":{\"duration\":300,\"redraw\":false},\"mode\":\"immediate\",\"transition\":{\"duration\":300}}],\"label\":\"2018\",\"method\":\"animate\"},{\"args\":[[\"2019\"],{\"frame\":{\"duration\":300,\"redraw\":false},\"mode\":\"immediate\",\"transition\":{\"duration\":300}}],\"label\":\"2019\",\"method\":\"animate\"},{\"args\":[[\"2020\"],{\"frame\":{\"duration\":300,\"redraw\":false},\"mode\":\"immediate\",\"transition\":{\"duration\":300}}],\"label\":\"2020\",\"method\":\"animate\"},{\"args\":[[\"2021\"],{\"frame\":{\"duration\":300,\"redraw\":false},\"mode\":\"immediate\",\"transition\":{\"duration\":300}}],\"label\":\"2021\",\"method\":\"animate\"},{\"args\":[[\"2022\"],{\"frame\":{\"duration\":300,\"redraw\":false},\"mode\":\"immediate\",\"transition\":{\"duration\":300}}],\"label\":\"2022\",\"method\":\"animate\"},{\"args\":[[\"2023\"],{\"frame\":{\"duration\":300,\"redraw\":false},\"mode\":\"immediate\",\"transition\":{\"duration\":300}}],\"label\":\"2023\",\"method\":\"animate\"}],\"transition\":{\"duration\":300,\"easing\":\"cubic-in-out\"},\"x\":0.1,\"xanchor\":\"left\",\"y\":0,\"yanchor\":\"top\"}]},                        {\"responsive\": true}                    ).then(function(){\n",
       "                            Plotly.addFrames('6663bfb5-d43a-445f-b60b-ab0ff7074798', [{\"data\":[{\"cliponaxis\":false,\"hoverinfo\":\"all\",\"hovertemplate\":\"\\u003cextra\\u003e\\u003c\\u002fextra\\u003e\",\"marker\":{\"color\":[\"rgb(120, 123, 89)\",\"rgb(150, 137, 65)\",\"rgb(229, 182, 216)\",\"rgb(138, 69, 251)\",\"rgb(43, 228, 121)\",\"rgb(65, 225, 119)\"]},\"orientation\":\"h\",\"textangle\":0,\"textposition\":\"outside\",\"texttemplate\":\"%{y}\\u003cbr\\u003e%{x:.4s}\",\"x\":{\"dtype\":\"f8\",\"bdata\":\"AAAAwHkbPkIAAAAATbtBQgCAfI\\u002fJKVdCAACALhLIXEIAAFRonCh0QgAA4IXKdoJC\"},\"y\":[\"Oceania\",\"North America\",\"Africa\",\"South America\",\"Asia\",\"Europe\"],\"type\":\"bar\"}],\"layout\":{\"bargap\":0.15,\"font\":{\"size\":14},\"plot_bgcolor\":\"#FFFFFF\",\"title\":{\"text\":\"GDP by Continent\"},\"xaxis\":{\"range\":[0,63289441371136.0],\"showline\":true,\"visible\":true},\"yaxis\":{\"showline\":false,\"visible\":true}},\"name\":\"1950\"},{\"data\":[{\"cliponaxis\":false,\"hoverinfo\":\"all\",\"hovertemplate\":\"\\u003cextra\\u003e\\u003c\\u002fextra\\u003e\",\"marker\":{\"color\":[\"rgb(120, 123, 89)\",\"rgb(150, 137, 65)\",\"rgb(229, 182, 216)\",\"rgb(138, 69, 251)\",\"rgb(43, 228, 121)\",\"rgb(65, 225, 119)\"]},\"orientation\":\"h\",\"textangle\":0,\"textposition\":\"outside\",\"texttemplate\":\"%{y}\\u003cbr\\u003e%{x:.4s}\",\"x\":{\"dtype\":\"f8\",\"bdata\":\"AAAAWK+0PkIAAABg07xCQgAAYCVmW1hCAADAsiEaXkIAAAUZW8Z1QgAAiLy2pYNC\"},\"y\":[\"Oceania\",\"North America\",\"Africa\",\"South America\",\"Asia\",\"Europe\"],\"type\":\"bar\"}],\"layout\":{\"bargap\":0.15,\"font\":{\"size\":14},\"plot_bgcolor\":\"#FFFFFF\",\"title\":{\"text\":\"GDP by Continent\"},\"xaxis\":{\"range\":[0,63289441371136.0],\"showline\":true,\"visible\":true},\"yaxis\":{\"showline\":false,\"visible\":true}},\"name\":\"1951\"},{\"data\":[{\"cliponaxis\":false,\"hoverinfo\":\"all\",\"hovertemplate\":\"\\u003cextra\\u003e\\u003c\\u002fextra\\u003e\",\"marker\":{\"color\":[\"rgb(120, 123, 89)\",\"rgb(150, 137, 65)\",\"rgb(229, 182, 216)\",\"rgb(138, 69, 251)\",\"rgb(43, 228, 121)\",\"rgb(65, 225, 119)\"]},\"orientation\":\"h\",\"textangle\":0,\"textposition\":\"outside\",\"texttemplate\":\"%{y}\\u003cbr\\u003e%{x:.4s}\",\"x\":{\"dtype\":\"f8\",\"bdata\":\"AAAAaNQqP0IAAABA4RlEQgAAy1bZT1lCAAAA7qyyXkIAADR6hHF3QgAAiPKdaoRC\"},\"y\":[\"Oceania\",\"North America\",\"Africa\",\"South America\",\"Asia\",\"Europe\"],\"type\":\"bar\"}],\"layout\":{\"bargap\":0.15,\"font\":{\"size\":14},\"plot_bgcolor\":\"#FFFFFF\",\"title\":{\"text\":\"GDP by Continent\"},\"xaxis\":{\"range\":[0,63289441371136.0],\"showline\":true,\"visible\":true},\"yaxis\":{\"showline\":false,\"visible\":true}},\"name\":\"1952\"},{\"data\":[{\"cliponaxis\":false,\"hoverinfo\":\"all\",\"hovertemplate\":\"\\u003cextra\\u003e\\u003c\\u002fextra\\u003e\",\"marker\":{\"color\":[\"rgb(120, 123, 89)\",\"rgb(150, 137, 65)\",\"rgb(229, 182, 216)\",\"rgb(138, 69, 251)\",\"rgb(43, 228, 121)\",\"rgb(65, 225, 119)\"]},\"orientation\":\"h\",\"textangle\":0,\"textposition\":\"outside\",\"texttemplate\":\"%{y}\\u003cbr\\u003e%{x:.4s}\",\"x\":{\"dtype\":\"f8\",\"bdata\":\"AAAAJAEUQEIAAADgVwpFQgCAGUBdMVpCAADgKD8bYEIAAE3NvxV5QgAAALK5noVC\"},\"y\":[\"Oceania\",\"North America\",\"Africa\",\"South America\",\"Asia\",\"Europe\"],\"type\":\"bar\"}],\"layout\":{\"bargap\":0.15,\"font\":{\"size\":14},\"plot_bgcolor\":\"#FFFFFF\",\"title\":{\"text\":\"GDP by Continent\"},\"xaxis\":{\"range\":[0,63289441371136.0],\"showline\":true,\"visible\":true},\"yaxis\":{\"showline\":false,\"visible\":true}},\"name\":\"1953\"},{\"data\":[{\"cliponaxis\":false,\"hoverinfo\":\"all\",\"hovertemplate\":\"\\u003cextra\\u003e\\u003c\\u002fextra\\u003e\",\"marker\":{\"color\":[\"rgb(120, 123, 89)\",\"rgb(150, 137, 65)\",\"rgb(229, 182, 216)\",\"rgb(138, 69, 251)\",\"rgb(43, 228, 121)\",\"rgb(65, 225, 119)\"]},\"orientation\":\"h\",\"textangle\":0,\"textposition\":\"outside\",\"texttemplate\":\"%{y}\\u003cbr\\u003e%{x:.4s}\",\"x\":{\"dtype\":\"f8\",\"bdata\":\"AAAAaIZLQUIAAAAAHOVEQgCA7o8ofVtCAAAA\\u002f7DqYEIAAIhBdBZ6QgAA6KWI24ZC\"},\"y\":[\"Oceania\",\"North America\",\"Africa\",\"South America\",\"Asia\",\"Europe\"],\"type\":\"bar\"}],\"layout\":{\"bargap\":0.15,\"font\":{\"size\":14},\"plot_bgcolor\":\"#FFFFFF\",\"title\":{\"text\":\"GDP by Continent\"},\"xaxis\":{\"range\":[0,63289441371136.0],\"showline\":true,\"visible\":true},\"yaxis\":{\"showline\":false,\"visible\":true}},\"name\":\"1954\"},{\"data\":[{\"cliponaxis\":false,\"hoverinfo\":\"all\",\"hovertemplate\":\"\\u003cextra\\u003e\\u003c\\u002fextra\\u003e\",\"marker\":{\"color\":[\"rgb(120, 123, 89)\",\"rgb(150, 137, 65)\",\"rgb(229, 182, 216)\",\"rgb(138, 69, 251)\",\"rgb(43, 228, 121)\",\"rgb(65, 225, 119)\"]},\"orientation\":\"h\",\"textangle\":0,\"textposition\":\"outside\",\"texttemplate\":\"%{y}\\u003cbr\\u003e%{x:.4s}\",\"x\":{\"dtype\":\"f8\",\"bdata\":\"AAAAyC8fQkIAAAAgp9hGQgCAgNtxcVxCAAAAoc4AYkIAAKYbzKd7QgAAMO\\u002fMR4hC\"},\"y\":[\"Oceania\",\"North America\",\"Africa\",\"South America\",\"Asia\",\"Europe\"],\"type\":\"bar\"}],\"layout\":{\"bargap\":0.15,\"font\":{\"size\":14},\"plot_bgcolor\":\"#FFFFFF\",\"title\":{\"text\":\"GDP by Continent\"},\"xaxis\":{\"range\":[0,63289441371136.0],\"showline\":true,\"visible\":true},\"yaxis\":{\"showline\":false,\"visible\":true}},\"name\":\"1955\"},{\"data\":[{\"cliponaxis\":false,\"hoverinfo\":\"all\",\"hovertemplate\":\"\\u003cextra\\u003e\\u003c\\u002fextra\\u003e\",\"marker\":{\"color\":[\"rgb(120, 123, 89)\",\"rgb(150, 137, 65)\",\"rgb(229, 182, 216)\",\"rgb(138, 69, 251)\",\"rgb(43, 228, 121)\",\"rgb(65, 225, 119)\"]},\"orientation\":\"h\",\"textangle\":0,\"textposition\":\"outside\",\"texttemplate\":\"%{y}\\u003cbr\\u003e%{x:.4s}\",\"x\":{\"dtype\":\"f8\",\"bdata\":\"AAAAULjNQkIAAADgzbFIQgCAnnBefV1CAADAwN55YkIAAFriGCx9QgAAMM5tZIlC\"},\"y\":[\"Oceania\",\"North America\",\"Africa\",\"South America\",\"Asia\",\"Europe\"],\"type\":\"bar\"}],\"layout\":{\"bargap\":0.15,\"font\":{\"size\":14},\"plot_bgcolor\":\"#FFFFFF\",\"title\":{\"text\":\"GDP by Continent\"},\"xaxis\":{\"range\":[0,63289441371136.0],\"showline\":true,\"visible\":true},\"yaxis\":{\"showline\":false,\"visible\":true}},\"name\":\"1956\"},{\"data\":[{\"cliponaxis\":false,\"hoverinfo\":\"all\",\"hovertemplate\":\"\\u003cextra\\u003e\\u003c\\u002fextra\\u003e\",\"marker\":{\"color\":[\"rgb(120, 123, 89)\",\"rgb(150, 137, 65)\",\"rgb(229, 182, 216)\",\"rgb(138, 69, 251)\",\"rgb(43, 228, 121)\",\"rgb(65, 225, 119)\"]},\"orientation\":\"h\",\"textangle\":0,\"textposition\":\"outside\",\"texttemplate\":\"%{y}\\u003cbr\\u003e%{x:.4s}\",\"x\":{\"dtype\":\"f8\",\"bdata\":\"AAAAkM41Q0IAAACg3GhJQgAAlw6dwV5CAADA8pCwY0IAAIRbJvR+QgAAWLoXjIpC\"},\"y\":[\"Oceania\",\"North America\",\"Africa\",\"South America\",\"Asia\",\"Europe\"],\"type\":\"bar\"}],\"layout\":{\"bargap\":0.15,\"font\":{\"size\":14},\"plot_bgcolor\":\"#FFFFFF\",\"title\":{\"text\":\"GDP by Continent\"},\"xaxis\":{\"range\":[0,63289441371136.0],\"showline\":true,\"visible\":true},\"yaxis\":{\"showline\":false,\"visible\":true}},\"name\":\"1957\"},{\"data\":[{\"cliponaxis\":false,\"hoverinfo\":\"all\",\"hovertemplate\":\"\\u003cextra\\u003e\\u003c\\u002fextra\\u003e\",\"marker\":{\"color\":[\"rgb(120, 123, 89)\",\"rgb(150, 137, 65)\",\"rgb(229, 182, 216)\",\"rgb(138, 69, 251)\",\"rgb(43, 228, 121)\",\"rgb(65, 225, 119)\"]},\"orientation\":\"h\",\"textangle\":0,\"textposition\":\"outside\",\"texttemplate\":\"%{y}\\u003cbr\\u003e%{x:.4s}\",\"x\":{\"dtype\":\"f8\",\"bdata\":\"AAAAzOoZREIAAABgOt1JQgAAINO7Wl9CAADABs7aZEIAAACLp06AQgAAWJyiTItC\"},\"y\":[\"Oceania\",\"North America\",\"Africa\",\"South America\",\"Asia\",\"Europe\"],\"type\":\"bar\"}],\"layout\":{\"bargap\":0.15,\"font\":{\"size\":14},\"plot_bgcolor\":\"#FFFFFF\",\"title\":{\"text\":\"GDP by Continent\"},\"xaxis\":{\"range\":[0,63289441371136.0],\"showline\":true,\"visible\":true},\"yaxis\":{\"showline\":false,\"visible\":true}},\"name\":\"1958\"},{\"data\":[{\"cliponaxis\":false,\"hoverinfo\":\"all\",\"hovertemplate\":\"\\u003cextra\\u003e\\u003c\\u002fextra\\u003e\",\"marker\":{\"color\":[\"rgb(120, 123, 89)\",\"rgb(150, 137, 65)\",\"rgb(229, 182, 216)\",\"rgb(138, 69, 251)\",\"rgb(43, 228, 121)\",\"rgb(65, 225, 119)\"]},\"orientation\":\"h\",\"textangle\":0,\"textposition\":\"outside\",\"texttemplate\":\"%{y}\\u003cbr\\u003e%{x:.4s}\",\"x\":{\"dtype\":\"f8\",\"bdata\":\"AAAAsPlfRUIAAACgo+lKQgCASxQMjGBCAACA67MZZUIAAJs1hj2BQgAA4G83toxC\"},\"y\":[\"Oceania\",\"North America\",\"Africa\",\"South America\",\"Asia\",\"Europe\"],\"type\":\"bar\"}],\"layout\":{\"bargap\":0.15,\"font\":{\"size\":14},\"plot_bgcolor\":\"#FFFFFF\",\"title\":{\"text\":\"GDP by Continent\"},\"xaxis\":{\"range\":[0,63289441371136.0],\"showline\":true,\"visible\":true},\"yaxis\":{\"showline\":false,\"visible\":true}},\"name\":\"1959\"},{\"data\":[{\"cliponaxis\":false,\"hoverinfo\":\"all\",\"hovertemplate\":\"\\u003cextra\\u003e\\u003c\\u002fextra\\u003e\",\"marker\":{\"color\":[\"rgb(120, 123, 89)\",\"rgb(229, 182, 216)\",\"rgb(138, 69, 251)\",\"rgb(43, 228, 121)\",\"rgb(150, 137, 65)\",\"rgb(65, 225, 119)\"]},\"orientation\":\"h\",\"textangle\":0,\"textposition\":\"outside\",\"texttemplate\":\"%{y}\\u003cbr\\u003e%{x:.4s}\",\"x\":{\"dtype\":\"f8\",\"bdata\":\"AADARJuvRkIAgFI7jVJhQgAAoIySv2ZCAAAHdzjvgUIAABQsEtGGQgAA7Lpeso5C\"},\"y\":[\"Oceania\",\"Africa\",\"South America\",\"Asia\",\"North America\",\"Europe\"],\"type\":\"bar\"}],\"layout\":{\"bargap\":0.15,\"font\":{\"size\":14},\"plot_bgcolor\":\"#FFFFFF\",\"title\":{\"text\":\"GDP by Continent\"},\"xaxis\":{\"range\":[0,63289441371136.0],\"showline\":true,\"visible\":true},\"yaxis\":{\"showline\":false,\"visible\":true}},\"name\":\"1960\"},{\"data\":[{\"cliponaxis\":false,\"hoverinfo\":\"all\",\"hovertemplate\":\"\\u003cextra\\u003e\\u003c\\u002fextra\\u003e\",\"marker\":{\"color\":[\"rgb(120, 123, 89)\",\"rgb(229, 182, 216)\",\"rgb(138, 69, 251)\",\"rgb(150, 137, 65)\",\"rgb(43, 228, 121)\",\"rgb(65, 225, 119)\"]},\"orientation\":\"h\",\"textangle\":0,\"textposition\":\"outside\",\"texttemplate\":\"%{y}\\u003cbr\\u003e%{x:.4s}\",\"x\":{\"dtype\":\"f8\",\"bdata\":\"AACA7wQ2R0IAgHSc6WthQgAAENu0IWhCAACo\\u002fEpbh0IAAPxjIZWHQgAAIrHrNZBC\"},\"y\":[\"Oceania\",\"Africa\",\"South America\",\"North America\",\"Asia\",\"Europe\"],\"type\":\"bar\"}],\"layout\":{\"bargap\":0.15,\"font\":{\"size\":14},\"plot_bgcolor\":\"#FFFFFF\",\"title\":{\"text\":\"GDP by Continent\"},\"xaxis\":{\"range\":[0,63289441371136.0],\"showline\":true,\"visible\":true},\"yaxis\":{\"showline\":false,\"visible\":true}},\"name\":\"1961\"},{\"data\":[{\"cliponaxis\":false,\"hoverinfo\":\"all\",\"hovertemplate\":\"\\u003cextra\\u003e\\u003c\\u002fextra\\u003e\",\"marker\":{\"color\":[\"rgb(120, 123, 89)\",\"rgb(229, 182, 216)\",\"rgb(138, 69, 251)\",\"rgb(150, 137, 65)\",\"rgb(43, 228, 121)\",\"rgb(65, 225, 119)\"]},\"orientation\":\"h\",\"textangle\":0,\"textposition\":\"outside\",\"texttemplate\":\"%{y}\\u003cbr\\u003e%{x:.4s}\",\"x\":{\"dtype\":\"f8\",\"bdata\":\"AACASwy7R0IAAOGCCAliQgAAYHECEmlCAAA8xhLOiEIAAHYS8CeJQgAAnBsM95BC\"},\"y\":[\"Oceania\",\"Africa\",\"South America\",\"North America\",\"Asia\",\"Europe\"],\"type\":\"bar\"}],\"layout\":{\"bargap\":0.15,\"font\":{\"size\":14},\"plot_bgcolor\":\"#FFFFFF\",\"title\":{\"text\":\"GDP by Continent\"},\"xaxis\":{\"range\":[0,63289441371136.0],\"showline\":true,\"visible\":true},\"yaxis\":{\"showline\":false,\"visible\":true}},\"name\":\"1962\"},{\"data\":[{\"cliponaxis\":false,\"hoverinfo\":\"all\",\"hovertemplate\":\"\\u003cextra\\u003e\\u003c\\u002fextra\\u003e\",\"marker\":{\"color\":[\"rgb(120, 123, 89)\",\"rgb(229, 182, 216)\",\"rgb(138, 69, 251)\",\"rgb(150, 137, 65)\",\"rgb(43, 228, 121)\",\"rgb(65, 225, 119)\"]},\"orientation\":\"h\",\"textangle\":0,\"textposition\":\"outside\",\"texttemplate\":\"%{y}\\u003cbr\\u003e%{x:.4s}\",\"x\":{\"dtype\":\"f8\",\"bdata\":\"AADAhbk3SUIAgJU7ubNjQgAAYJYUDmlCAAAchBPqiUIAAD3mqN6KQgAAmOcN0JFC\"},\"y\":[\"Oceania\",\"Africa\",\"South America\",\"North America\",\"Asia\",\"Europe\"],\"type\":\"bar\"}],\"layout\":{\"bargap\":0.15,\"font\":{\"size\":14},\"plot_bgcolor\":\"#FFFFFF\",\"title\":{\"text\":\"GDP by Continent\"},\"xaxis\":{\"range\":[0,63289441371136.0],\"showline\":true,\"visible\":true},\"yaxis\":{\"showline\":false,\"visible\":true}},\"name\":\"1963\"},{\"data\":[{\"cliponaxis\":false,\"hoverinfo\":\"all\",\"hovertemplate\":\"\\u003cextra\\u003e\\u003c\\u002fextra\\u003e\",\"marker\":{\"color\":[\"rgb(120, 123, 89)\",\"rgb(229, 182, 216)\",\"rgb(138, 69, 251)\",\"rgb(150, 137, 65)\",\"rgb(43, 228, 121)\",\"rgb(65, 225, 119)\"]},\"orientation\":\"h\",\"textangle\":0,\"textposition\":\"outside\",\"texttemplate\":\"%{y}\\u003cbr\\u003e%{x:.4s}\",\"x\":{\"dtype\":\"f8\",\"bdata\":\"AADAONrgSkIAgBwyDQZlQgAAkPtCkmpCAACQOFdvi0IAANpZEDqNQgAATFZN2ZJC\"},\"y\":[\"Oceania\",\"Africa\",\"South America\",\"North America\",\"Asia\",\"Europe\"],\"type\":\"bar\"}],\"layout\":{\"bargap\":0.15,\"font\":{\"size\":14},\"plot_bgcolor\":\"#FFFFFF\",\"title\":{\"text\":\"GDP by Continent\"},\"xaxis\":{\"range\":[0,63289441371136.0],\"showline\":true,\"visible\":true},\"yaxis\":{\"showline\":false,\"visible\":true}},\"name\":\"1964\"},{\"data\":[{\"cliponaxis\":false,\"hoverinfo\":\"all\",\"hovertemplate\":\"\\u003cextra\\u003e\\u003c\\u002fextra\\u003e\",\"marker\":{\"color\":[\"rgb(120, 123, 89)\",\"rgb(229, 182, 216)\",\"rgb(138, 69, 251)\",\"rgb(150, 137, 65)\",\"rgb(43, 228, 121)\",\"rgb(65, 225, 119)\"]},\"orientation\":\"h\",\"textangle\":0,\"textposition\":\"outside\",\"texttemplate\":\"%{y}\\u003cbr\\u003e%{x:.4s}\",\"x\":{\"dtype\":\"f8\",\"bdata\":\"AADg5i+4TEIAABKblSdmQgAAwAeS+2tCAAB0Z1QwjUIAgKFjspSRQgAARGvAspNC\"},\"y\":[\"Oceania\",\"Africa\",\"South America\",\"North America\",\"Asia\",\"Europe\"],\"type\":\"bar\"}],\"layout\":{\"bargap\":0.15,\"font\":{\"size\":14},\"plot_bgcolor\":\"#FFFFFF\",\"title\":{\"text\":\"GDP by Continent\"},\"xaxis\":{\"range\":[0,63289441371136.0],\"showline\":true,\"visible\":true},\"yaxis\":{\"showline\":false,\"visible\":true}},\"name\":\"1965\"},{\"data\":[{\"cliponaxis\":false,\"hoverinfo\":\"all\",\"hovertemplate\":\"\\u003cextra\\u003e\\u003c\\u002fextra\\u003e\",\"marker\":{\"color\":[\"rgb(120, 123, 89)\",\"rgb(229, 182, 216)\",\"rgb(138, 69, 251)\",\"rgb(150, 137, 65)\",\"rgb(43, 228, 121)\",\"rgb(65, 225, 119)\"]},\"orientation\":\"h\",\"textangle\":0,\"textposition\":\"outside\",\"texttemplate\":\"%{y}\\u003cbr\\u003e%{x:.4s}\",\"x\":{\"dtype\":\"f8\",\"bdata\":\"AACAHEpWTUIAgD8yArhmQgAAAInJJW1CAADIIXAXj0IAgJarjLaSQgAAWBOlg5RC\"},\"y\":[\"Oceania\",\"Africa\",\"South America\",\"North America\",\"Asia\",\"Europe\"],\"type\":\"bar\"}],\"layout\":{\"bargap\":0.15,\"font\":{\"size\":14},\"plot_bgcolor\":\"#FFFFFF\",\"title\":{\"text\":\"GDP by Continent\"},\"xaxis\":{\"range\":[0,63289441371136.0],\"showline\":true,\"visible\":true},\"yaxis\":{\"showline\":false,\"visible\":true}},\"name\":\"1966\"},{\"data\":[{\"cliponaxis\":false,\"hoverinfo\":\"all\",\"hovertemplate\":\"\\u003cextra\\u003e\\u003c\\u002fextra\\u003e\",\"marker\":{\"color\":[\"rgb(120, 123, 89)\",\"rgb(229, 182, 216)\",\"rgb(138, 69, 251)\",\"rgb(150, 137, 65)\",\"rgb(43, 228, 121)\",\"rgb(65, 225, 119)\"]},\"orientation\":\"h\",\"textangle\":0,\"textposition\":\"outside\",\"texttemplate\":\"%{y}\\u003cbr\\u003e%{x:.4s}\",\"x\":{\"dtype\":\"f8\",\"bdata\":\"AACAcnK5TkIAgOPRKwpnQgAAMJVWR25CAADwnXLij0IAAOtZBIqTQgAADLtuP5VC\"},\"y\":[\"Oceania\",\"Africa\",\"South America\",\"North America\",\"Asia\",\"Europe\"],\"type\":\"bar\"}],\"layout\":{\"bargap\":0.15,\"font\":{\"size\":14},\"plot_bgcolor\":\"#FFFFFF\",\"title\":{\"text\":\"GDP by Continent\"},\"xaxis\":{\"range\":[0,63289441371136.0],\"showline\":true,\"visible\":true},\"yaxis\":{\"showline\":false,\"visible\":true}},\"name\":\"1967\"},{\"data\":[{\"cliponaxis\":false,\"hoverinfo\":\"all\",\"hovertemplate\":\"\\u003cextra\\u003e\\u003c\\u002fextra\\u003e\",\"marker\":{\"color\":[\"rgb(120, 123, 89)\",\"rgb(229, 182, 216)\",\"rgb(138, 69, 251)\",\"rgb(150, 137, 65)\",\"rgb(43, 228, 121)\",\"rgb(65, 225, 119)\"]},\"orientation\":\"h\",\"textangle\":0,\"textposition\":\"outside\",\"texttemplate\":\"%{y}\\u003cbr\\u003e%{x:.4s}\",\"x\":{\"dtype\":\"f8\",\"bdata\":\"AADg\\u002fpcKUEIAAOkfFApoQgAAYPueHHBCAACIkrW1kEIAgO6I2L+UQgAAuPewZpZC\"},\"y\":[\"Oceania\",\"Africa\",\"South America\",\"North America\",\"Asia\",\"Europe\"],\"type\":\"bar\"}],\"layout\":{\"bargap\":0.15,\"font\":{\"size\":14},\"plot_bgcolor\":\"#FFFFFF\",\"title\":{\"text\":\"GDP by Continent\"},\"xaxis\":{\"range\":[0,63289441371136.0],\"showline\":true,\"visible\":true},\"yaxis\":{\"showline\":false,\"visible\":true}},\"name\":\"1968\"},{\"data\":[{\"cliponaxis\":false,\"hoverinfo\":\"all\",\"hovertemplate\":\"\\u003cextra\\u003e\\u003c\\u002fextra\\u003e\",\"marker\":{\"color\":[\"rgb(120, 123, 89)\",\"rgb(229, 182, 216)\",\"rgb(138, 69, 251)\",\"rgb(150, 137, 65)\",\"rgb(43, 228, 121)\",\"rgb(65, 225, 119)\"]},\"orientation\":\"h\",\"textangle\":0,\"textposition\":\"outside\",\"texttemplate\":\"%{y}\\u003cbr\\u003e%{x:.4s}\",\"x\":{\"dtype\":\"f8\",\"bdata\":\"AADggPApUUIAgB1\\u002fCe1pQgAAoP+bY3FCAABOf+1AkUIAALWKUTuWQgAA6LcDu5dC\"},\"y\":[\"Oceania\",\"Africa\",\"South America\",\"North America\",\"Asia\",\"Europe\"],\"type\":\"bar\"}],\"layout\":{\"bargap\":0.15,\"font\":{\"size\":14},\"plot_bgcolor\":\"#FFFFFF\",\"title\":{\"text\":\"GDP by Continent\"},\"xaxis\":{\"range\":[0,63289441371136.0],\"showline\":true,\"visible\":true},\"yaxis\":{\"showline\":false,\"visible\":true}},\"name\":\"1969\"},{\"data\":[{\"cliponaxis\":false,\"hoverinfo\":\"all\",\"hovertemplate\":\"\\u003cextra\\u003e\\u003c\\u002fextra\\u003e\",\"marker\":{\"color\":[\"rgb(120, 123, 89)\",\"rgb(229, 182, 216)\",\"rgb(138, 69, 251)\",\"rgb(150, 137, 65)\",\"rgb(43, 228, 121)\",\"rgb(65, 225, 119)\"]},\"orientation\":\"h\",\"textangle\":0,\"textposition\":\"outside\",\"texttemplate\":\"%{y}\\u003cbr\\u003e%{x:.4s}\",\"x\":{\"dtype\":\"f8\",\"bdata\":\"AECabtVrUkIAAMvfxvRrQgAA4GGBhnJCAAAO8sNfkUIAAIQzqz+ZQgCA08smpppC\"},\"y\":[\"Oceania\",\"Africa\",\"South America\",\"North America\",\"Asia\",\"Europe\"],\"type\":\"bar\"}],\"layout\":{\"bargap\":0.15,\"font\":{\"size\":14},\"plot_bgcolor\":\"#FFFFFF\",\"title\":{\"text\":\"GDP by Continent\"},\"xaxis\":{\"range\":[0,63289441371136.0],\"showline\":true,\"visible\":true},\"yaxis\":{\"showline\":false,\"visible\":true}},\"name\":\"1970\"},{\"data\":[{\"cliponaxis\":false,\"hoverinfo\":\"all\",\"hovertemplate\":\"\\u003cextra\\u003e\\u003c\\u002fextra\\u003e\",\"marker\":{\"color\":[\"rgb(120, 123, 89)\",\"rgb(229, 182, 216)\",\"rgb(138, 69, 251)\",\"rgb(150, 137, 65)\",\"rgb(43, 228, 121)\",\"rgb(65, 225, 119)\"]},\"orientation\":\"h\",\"textangle\":0,\"textposition\":\"outside\",\"texttemplate\":\"%{y}\\u003cbr\\u003e%{x:.4s}\",\"x\":{\"dtype\":\"f8\",\"bdata\":\"AMDHgyREU0IAALn9YTJtQgAAgFs543NCAAAQxQP1kUIAgFLIP5iaQgAA5JO2vZtC\"},\"y\":[\"Oceania\",\"Africa\",\"South America\",\"North America\",\"Asia\",\"Europe\"],\"type\":\"bar\"}],\"layout\":{\"bargap\":0.15,\"font\":{\"size\":14},\"plot_bgcolor\":\"#FFFFFF\",\"title\":{\"text\":\"GDP by Continent\"},\"xaxis\":{\"range\":[0,63289441371136.0],\"showline\":true,\"visible\":true},\"yaxis\":{\"showline\":false,\"visible\":true}},\"name\":\"1971\"},{\"data\":[{\"cliponaxis\":false,\"hoverinfo\":\"all\",\"hovertemplate\":\"\\u003cextra\\u003e\\u003c\\u002fextra\\u003e\",\"marker\":{\"color\":[\"rgb(120, 123, 89)\",\"rgb(229, 182, 216)\",\"rgb(138, 69, 251)\",\"rgb(150, 137, 65)\",\"rgb(43, 228, 121)\",\"rgb(65, 225, 119)\"]},\"orientation\":\"h\",\"textangle\":0,\"textposition\":\"outside\",\"texttemplate\":\"%{y}\\u003cbr\\u003e%{x:.4s}\",\"x\":{\"dtype\":\"f8\",\"bdata\":\"AMDY3w7zU0IAAED\\u002f+MJuQgAAeEbfPXVCAAB\\u002f3r\\u002fnkkIAgIdeWSKcQgCAH25IEJ1C\"},\"y\":[\"Oceania\",\"Africa\",\"South America\",\"North America\",\"Asia\",\"Europe\"],\"type\":\"bar\"}],\"layout\":{\"bargap\":0.15,\"font\":{\"size\":14},\"plot_bgcolor\":\"#FFFFFF\",\"title\":{\"text\":\"GDP by Continent\"},\"xaxis\":{\"range\":[0,63289441371136.0],\"showline\":true,\"visible\":true},\"yaxis\":{\"showline\":false,\"visible\":true}},\"name\":\"1972\"},{\"data\":[{\"cliponaxis\":false,\"hoverinfo\":\"all\",\"hovertemplate\":\"\\u003cextra\\u003e\\u003c\\u002fextra\\u003e\",\"marker\":{\"color\":[\"rgb(120, 123, 89)\",\"rgb(229, 182, 216)\",\"rgb(138, 69, 251)\",\"rgb(150, 137, 65)\",\"rgb(43, 228, 121)\",\"rgb(65, 225, 119)\"]},\"orientation\":\"h\",\"textangle\":0,\"textposition\":\"outside\",\"texttemplate\":\"%{y}\\u003cbr\\u003e%{x:.4s}\",\"x\":{\"dtype\":\"f8\",\"bdata\":\"AEAc1C\\u002fBVEIAAC3uHv5vQgAAAA+YEXdCAABofhz+k0IAAIfMS2KeQgAAlmZozp5C\"},\"y\":[\"Oceania\",\"Africa\",\"South America\",\"North America\",\"Asia\",\"Europe\"],\"type\":\"bar\"}],\"layout\":{\"bargap\":0.15,\"font\":{\"size\":14},\"plot_bgcolor\":\"#FFFFFF\",\"title\":{\"text\":\"GDP by Continent\"},\"xaxis\":{\"range\":[0,63289441371136.0],\"showline\":true,\"visible\":true},\"yaxis\":{\"showline\":false,\"visible\":true}},\"name\":\"1973\"},{\"data\":[{\"cliponaxis\":false,\"hoverinfo\":\"all\",\"hovertemplate\":\"\\u003cextra\\u003e\\u003c\\u002fextra\\u003e\",\"marker\":{\"color\":[\"rgb(120, 123, 89)\",\"rgb(229, 182, 216)\",\"rgb(138, 69, 251)\",\"rgb(150, 137, 65)\",\"rgb(43, 228, 121)\",\"rgb(65, 225, 119)\"]},\"orientation\":\"h\",\"textangle\":0,\"textposition\":\"outside\",\"texttemplate\":\"%{y}\\u003cbr\\u003e%{x:.4s}\",\"x\":{\"dtype\":\"f8\",\"bdata\":\"AEBHhuBxVUIAgN3ukwZxQgAAgGuqpnhCAADhR1v0k0IAgAnNeGWfQgCA+G6Kt59C\"},\"y\":[\"Oceania\",\"Africa\",\"South America\",\"North America\",\"Asia\",\"Europe\"],\"type\":\"bar\"}],\"layout\":{\"bargap\":0.15,\"font\":{\"size\":14},\"plot_bgcolor\":\"#FFFFFF\",\"title\":{\"text\":\"GDP by Continent\"},\"xaxis\":{\"range\":[0,63289441371136.0],\"showline\":true,\"visible\":true},\"yaxis\":{\"showline\":false,\"visible\":true}},\"name\":\"1974\"},{\"data\":[{\"cliponaxis\":false,\"hoverinfo\":\"all\",\"hovertemplate\":\"\\u003cextra\\u003e\\u003c\\u002fextra\\u003e\",\"marker\":{\"color\":[\"rgb(120, 123, 89)\",\"rgb(229, 182, 216)\",\"rgb(138, 69, 251)\",\"rgb(150, 137, 65)\",\"rgb(65, 225, 119)\",\"rgb(43, 228, 121)\"]},\"orientation\":\"h\",\"textangle\":0,\"textposition\":\"outside\",\"texttemplate\":\"%{y}\\u003cbr\\u003e%{x:.4s}\",\"x\":{\"dtype\":\"f8\",\"bdata\":\"AECrN8\\u002fJVUIAAD2RJm1xQgAAUJq8Z3lCAACEwPnxk0IAAASU8LefQgAAnVPrQ6BC\"},\"y\":[\"Oceania\",\"Africa\",\"South America\",\"North America\",\"Europe\",\"Asia\"],\"type\":\"bar\"}],\"layout\":{\"bargap\":0.15,\"font\":{\"size\":14},\"plot_bgcolor\":\"#FFFFFF\",\"title\":{\"text\":\"GDP by Continent\"},\"xaxis\":{\"range\":[0,63289441371136.0],\"showline\":true,\"visible\":true},\"yaxis\":{\"showline\":false,\"visible\":true}},\"name\":\"1975\"},{\"data\":[{\"cliponaxis\":false,\"hoverinfo\":\"all\",\"hovertemplate\":\"\\u003cextra\\u003e\\u003c\\u002fextra\\u003e\",\"marker\":{\"color\":[\"rgb(120, 123, 89)\",\"rgb(229, 182, 216)\",\"rgb(138, 69, 251)\",\"rgb(150, 137, 65)\",\"rgb(65, 225, 119)\",\"rgb(43, 228, 121)\"]},\"orientation\":\"h\",\"textangle\":0,\"textposition\":\"outside\",\"texttemplate\":\"%{y}\\u003cbr\\u003e%{x:.4s}\",\"x\":{\"dtype\":\"f8\",\"bdata\":\"AIAEwwJWVkIAgKR5qVlyQgAAEIxMBHtCAAB245MHlUIAQOP09JmgQgAArNL3FKFC\"},\"y\":[\"Oceania\",\"Africa\",\"South America\",\"North America\",\"Europe\",\"Asia\"],\"type\":\"bar\"}],\"layout\":{\"bargap\":0.15,\"font\":{\"size\":14},\"plot_bgcolor\":\"#FFFFFF\",\"title\":{\"text\":\"GDP by Continent\"},\"xaxis\":{\"range\":[0,63289441371136.0],\"showline\":true,\"visible\":true},\"yaxis\":{\"showline\":false,\"visible\":true}},\"name\":\"1976\"},{\"data\":[{\"cliponaxis\":false,\"hoverinfo\":\"all\",\"hovertemplate\":\"\\u003cextra\\u003e\\u003c\\u002fextra\\u003e\",\"marker\":{\"color\":[\"rgb(120, 123, 89)\",\"rgb(229, 182, 216)\",\"rgb(138, 69, 251)\",\"rgb(150, 137, 65)\",\"rgb(65, 225, 119)\",\"rgb(43, 228, 121)\"]},\"orientation\":\"h\",\"textangle\":0,\"textposition\":\"outside\",\"texttemplate\":\"%{y}\\u003cbr\\u003e%{x:.4s}\",\"x\":{\"dtype\":\"f8\",\"bdata\":\"AICePOSbVkIAgGhceiNzQgAAoBPcY3xCAACAVWH6lUIAwJQluSihQgBA9rIg7aFC\"},\"y\":[\"Oceania\",\"Africa\",\"South America\",\"North America\",\"Europe\",\"Asia\"],\"type\":\"bar\"}],\"layout\":{\"bargap\":0.15,\"font\":{\"size\":14},\"plot_bgcolor\":\"#FFFFFF\",\"title\":{\"text\":\"GDP by Continent\"},\"xaxis\":{\"range\":[0,63289441371136.0],\"showline\":true,\"visible\":true},\"yaxis\":{\"showline\":false,\"visible\":true}},\"name\":\"1977\"},{\"data\":[{\"cliponaxis\":false,\"hoverinfo\":\"all\",\"hovertemplate\":\"\\u003cextra\\u003e\\u003c\\u002fextra\\u003e\",\"marker\":{\"color\":[\"rgb(120, 123, 89)\",\"rgb(229, 182, 216)\",\"rgb(138, 69, 251)\",\"rgb(150, 137, 65)\",\"rgb(65, 225, 119)\",\"rgb(43, 228, 121)\"]},\"orientation\":\"h\",\"textangle\":0,\"textposition\":\"outside\",\"texttemplate\":\"%{y}\\u003cbr\\u003e%{x:.4s}\",\"x\":{\"dtype\":\"f8\",\"bdata\":\"AMAnKuEdV0IAAPSuVZtzQgAAIKytPX1CAAD2fNInl0IAQLPqtb+hQgBABDKOoqJC\"},\"y\":[\"Oceania\",\"Africa\",\"South America\",\"North America\",\"Europe\",\"Asia\"],\"type\":\"bar\"}],\"layout\":{\"bargap\":0.15,\"font\":{\"size\":14},\"plot_bgcolor\":\"#FFFFFF\",\"title\":{\"text\":\"GDP by Continent\"},\"xaxis\":{\"range\":[0,63289441371136.0],\"showline\":true,\"visible\":true},\"yaxis\":{\"showline\":false,\"visible\":true}},\"name\":\"1978\"},{\"data\":[{\"cliponaxis\":false,\"hoverinfo\":\"all\",\"hovertemplate\":\"\\u003cextra\\u003e\\u003c\\u002fextra\\u003e\",\"marker\":{\"color\":[\"rgb(120, 123, 89)\",\"rgb(229, 182, 216)\",\"rgb(138, 69, 251)\",\"rgb(150, 137, 65)\",\"rgb(65, 225, 119)\",\"rgb(43, 228, 121)\"]},\"orientation\":\"h\",\"textangle\":0,\"textposition\":\"outside\",\"texttemplate\":\"%{y}\\u003cbr\\u003e%{x:.4s}\",\"x\":{\"dtype\":\"f8\",\"bdata\":\"AMCk9G7bV0IAgMGnwz90QgAAoP+pCn9CAABYeKLml0IAAOpa\\u002fmyiQgAA2QEzVKNC\"},\"y\":[\"Oceania\",\"Africa\",\"South America\",\"North America\",\"Europe\",\"Asia\"],\"type\":\"bar\"}],\"layout\":{\"bargap\":0.15,\"font\":{\"size\":14},\"plot_bgcolor\":\"#FFFFFF\",\"title\":{\"text\":\"GDP by Continent\"},\"xaxis\":{\"range\":[0,63289441371136.0],\"showline\":true,\"visible\":true},\"yaxis\":{\"showline\":false,\"visible\":true}},\"name\":\"1979\"},{\"data\":[{\"cliponaxis\":false,\"hoverinfo\":\"all\",\"hovertemplate\":\"\\u003cextra\\u003e\\u003c\\u002fextra\\u003e\",\"marker\":{\"color\":[\"rgb(120, 123, 89)\",\"rgb(229, 182, 216)\",\"rgb(138, 69, 251)\",\"rgb(150, 137, 65)\",\"rgb(65, 225, 119)\",\"rgb(43, 228, 121)\"]},\"orientation\":\"h\",\"textangle\":0,\"textposition\":\"outside\",\"texttemplate\":\"%{y}\\u003cbr\\u003e%{x:.4s}\",\"x\":{\"dtype\":\"f8\",\"bdata\":\"AMBSu7OBWEIAAP8Ij+d0QgAAkGDqdoBCAAAGhQbll0IAgH\\u002fQG7WiQgDAVzd34KNC\"},\"y\":[\"Oceania\",\"Africa\",\"South America\",\"North America\",\"Europe\",\"Asia\"],\"type\":\"bar\"}],\"layout\":{\"bargap\":0.15,\"font\":{\"size\":14},\"plot_bgcolor\":\"#FFFFFF\",\"title\":{\"text\":\"GDP by Continent\"},\"xaxis\":{\"range\":[0,63289441371136.0],\"showline\":true,\"visible\":true},\"yaxis\":{\"showline\":false,\"visible\":true}},\"name\":\"1980\"},{\"data\":[{\"cliponaxis\":false,\"hoverinfo\":\"all\",\"hovertemplate\":\"\\u003cextra\\u003e\\u003c\\u002fextra\\u003e\",\"marker\":{\"color\":[\"rgb(120, 123, 89)\",\"rgb(229, 182, 216)\",\"rgb(138, 69, 251)\",\"rgb(150, 137, 65)\",\"rgb(65, 225, 119)\",\"rgb(43, 228, 121)\"]},\"orientation\":\"h\",\"textangle\":0,\"textposition\":\"outside\",\"texttemplate\":\"%{y}\\u003cbr\\u003e%{x:.4s}\",\"x\":{\"dtype\":\"f8\",\"bdata\":\"AMB9vbpTWUIAgEGfhy91QgAA2JJREoBCAAA4g5SFmEIAAOSjELmiQgAASFTneqRC\"},\"y\":[\"Oceania\",\"Africa\",\"South America\",\"North America\",\"Europe\",\"Asia\"],\"type\":\"bar\"}],\"layout\":{\"bargap\":0.15,\"font\":{\"size\":14},\"plot_bgcolor\":\"#FFFFFF\",\"title\":{\"text\":\"GDP by Continent\"},\"xaxis\":{\"range\":[0,63289441371136.0],\"showline\":true,\"visible\":true},\"yaxis\":{\"showline\":false,\"visible\":true}},\"name\":\"1981\"},{\"data\":[{\"cliponaxis\":false,\"hoverinfo\":\"all\",\"hovertemplate\":\"\\u003cextra\\u003e\\u003c\\u002fextra\\u003e\",\"marker\":{\"color\":[\"rgb(120, 123, 89)\",\"rgb(229, 182, 216)\",\"rgb(138, 69, 251)\",\"rgb(150, 137, 65)\",\"rgb(65, 225, 119)\",\"rgb(43, 228, 121)\"]},\"orientation\":\"h\",\"textangle\":0,\"textposition\":\"outside\",\"texttemplate\":\"%{y}\\u003cbr\\u003e%{x:.4s}\",\"x\":{\"dtype\":\"f8\",\"bdata\":\"AEDMQOx6WUIAAAQDxqF1QgAAiMDR4H9CAAD4a\\u002f0LmEIAwPPOzt6iQgAAhIds4aRC\"},\"y\":[\"Oceania\",\"Africa\",\"South America\",\"North America\",\"Europe\",\"Asia\"],\"type\":\"bar\"}],\"layout\":{\"bargap\":0.15,\"font\":{\"size\":14},\"plot_bgcolor\":\"#FFFFFF\",\"title\":{\"text\":\"GDP by Continent\"},\"xaxis\":{\"range\":[0,63289441371136.0],\"showline\":true,\"visible\":true},\"yaxis\":{\"showline\":false,\"visible\":true}},\"name\":\"1982\"},{\"data\":[{\"cliponaxis\":false,\"hoverinfo\":\"all\",\"hovertemplate\":\"\\u003cextra\\u003e\\u003c\\u002fextra\\u003e\",\"marker\":{\"color\":[\"rgb(120, 123, 89)\",\"rgb(229, 182, 216)\",\"rgb(138, 69, 251)\",\"rgb(150, 137, 65)\",\"rgb(65, 225, 119)\",\"rgb(43, 228, 121)\"]},\"orientation\":\"h\",\"textangle\":0,\"textposition\":\"outside\",\"texttemplate\":\"%{y}\\u003cbr\\u003e%{x:.4s}\",\"x\":{\"dtype\":\"f8\",\"bdata\":\"AMApefjeWUIAAAdYL891QgAAgKAxVH9CAAA812MamUIAQGj3rDyjQgAATEEvrKVC\"},\"y\":[\"Oceania\",\"Africa\",\"South America\",\"North America\",\"Europe\",\"Asia\"],\"type\":\"bar\"}],\"layout\":{\"bargap\":0.15,\"font\":{\"size\":14},\"plot_bgcolor\":\"#FFFFFF\",\"title\":{\"text\":\"GDP by Continent\"},\"xaxis\":{\"range\":[0,63289441371136.0],\"showline\":true,\"visible\":true},\"yaxis\":{\"showline\":false,\"visible\":true}},\"name\":\"1983\"},{\"data\":[{\"cliponaxis\":false,\"hoverinfo\":\"all\",\"hovertemplate\":\"\\u003cextra\\u003e\\u003c\\u002fextra\\u003e\",\"marker\":{\"color\":[\"rgb(120, 123, 89)\",\"rgb(229, 182, 216)\",\"rgb(138, 69, 251)\",\"rgb(150, 137, 65)\",\"rgb(65, 225, 119)\",\"rgb(43, 228, 121)\"]},\"orientation\":\"h\",\"textangle\":0,\"textposition\":\"outside\",\"texttemplate\":\"%{y}\\u003cbr\\u003e%{x:.4s}\",\"x\":{\"dtype\":\"f8\",\"bdata\":\"AADUic8ZW0IAAOl7oq92QgAADKhRRoBCAACGVAHjmkIAgMmwnLujQgAAgnozjqZC\"},\"y\":[\"Oceania\",\"Africa\",\"South America\",\"North America\",\"Europe\",\"Asia\"],\"type\":\"bar\"}],\"layout\":{\"bargap\":0.15,\"font\":{\"size\":14},\"plot_bgcolor\":\"#FFFFFF\",\"title\":{\"text\":\"GDP by Continent\"},\"xaxis\":{\"range\":[0,63289441371136.0],\"showline\":true,\"visible\":true},\"yaxis\":{\"showline\":false,\"visible\":true}},\"name\":\"1984\"},{\"data\":[{\"cliponaxis\":false,\"hoverinfo\":\"all\",\"hovertemplate\":\"\\u003cextra\\u003e\\u003c\\u002fextra\\u003e\",\"marker\":{\"color\":[\"rgb(120, 123, 89)\",\"rgb(229, 182, 216)\",\"rgb(138, 69, 251)\",\"rgb(150, 137, 65)\",\"rgb(65, 225, 119)\",\"rgb(43, 228, 121)\"]},\"orientation\":\"h\",\"textangle\":0,\"textposition\":\"outside\",\"texttemplate\":\"%{y}\\u003cbr\\u003e%{x:.4s}\",\"x\":{\"dtype\":\"f8\",\"bdata\":\"AADYmVE7XEIAgAdsUVh3QgAAANAU04BCAAD0b6EFnEIAgNjezTekQgCApY0sVKdC\"},\"y\":[\"Oceania\",\"Africa\",\"South America\",\"North America\",\"Europe\",\"Asia\"],\"type\":\"bar\"}],\"layout\":{\"bargap\":0.15,\"font\":{\"size\":14},\"plot_bgcolor\":\"#FFFFFF\",\"title\":{\"text\":\"GDP by Continent\"},\"xaxis\":{\"range\":[0,63289441371136.0],\"showline\":true,\"visible\":true},\"yaxis\":{\"showline\":false,\"visible\":true}},\"name\":\"1985\"},{\"data\":[{\"cliponaxis\":false,\"hoverinfo\":\"all\",\"hovertemplate\":\"\\u003cextra\\u003e\\u003c\\u002fextra\\u003e\",\"marker\":{\"color\":[\"rgb(120, 123, 89)\",\"rgb(229, 182, 216)\",\"rgb(138, 69, 251)\",\"rgb(150, 137, 65)\",\"rgb(65, 225, 119)\",\"rgb(43, 228, 121)\"]},\"orientation\":\"h\",\"textangle\":0,\"textposition\":\"outside\",\"texttemplate\":\"%{y}\\u003cbr\\u003e%{x:.4s}\",\"x\":{\"dtype\":\"f8\",\"bdata\":\"AIAjbJzvXEIAAKcpLMZ3QgAAqL8a\\u002f4FCAABsjUX1nEIAQKz9U72kQgCAW\\u002f6KSahC\"},\"y\":[\"Oceania\",\"Africa\",\"South America\",\"North America\",\"Europe\",\"Asia\"],\"type\":\"bar\"}],\"layout\":{\"bargap\":0.15,\"font\":{\"size\":14},\"plot_bgcolor\":\"#FFFFFF\",\"title\":{\"text\":\"GDP by Continent\"},\"xaxis\":{\"range\":[0,63289441371136.0],\"showline\":true,\"visible\":true},\"yaxis\":{\"showline\":false,\"visible\":true}},\"name\":\"1986\"},{\"data\":[{\"cliponaxis\":false,\"hoverinfo\":\"all\",\"hovertemplate\":\"\\u003cextra\\u003e\\u003c\\u002fextra\\u003e\",\"marker\":{\"color\":[\"rgb(120, 123, 89)\",\"rgb(229, 182, 216)\",\"rgb(138, 69, 251)\",\"rgb(150, 137, 65)\",\"rgb(65, 225, 119)\",\"rgb(43, 228, 121)\"]},\"orientation\":\"h\",\"textangle\":0,\"textposition\":\"outside\",\"texttemplate\":\"%{y}\\u003cbr\\u003e%{x:.4s}\",\"x\":{\"dtype\":\"f8\",\"bdata\":\"AAA+4LD6XUIAgKT7p0p4QgAAxMvYr4JCAAA8Nvf5nUIAgBAoAk2lQgCAtjJtU6lC\"},\"y\":[\"Oceania\",\"Africa\",\"South America\",\"North America\",\"Europe\",\"Asia\"],\"type\":\"bar\"}],\"layout\":{\"bargap\":0.15,\"font\":{\"size\":14},\"plot_bgcolor\":\"#FFFFFF\",\"title\":{\"text\":\"GDP by Continent\"},\"xaxis\":{\"range\":[0,63289441371136.0],\"showline\":true,\"visible\":true},\"yaxis\":{\"showline\":false,\"visible\":true}},\"name\":\"1987\"},{\"data\":[{\"cliponaxis\":false,\"hoverinfo\":\"all\",\"hovertemplate\":\"\\u003cextra\\u003e\\u003c\\u002fextra\\u003e\",\"marker\":{\"color\":[\"rgb(120, 123, 89)\",\"rgb(229, 182, 216)\",\"rgb(138, 69, 251)\",\"rgb(150, 137, 65)\",\"rgb(65, 225, 119)\",\"rgb(43, 228, 121)\"]},\"orientation\":\"h\",\"textangle\":0,\"textposition\":\"outside\",\"texttemplate\":\"%{y}\\u003cbr\\u003e%{x:.4s}\",\"x\":{\"dtype\":\"f8\",\"bdata\":\"AEAFTiFOX0IAgL0BZUt5QgAAtOe\\u002fuoJCAABAZB08n0IAgLTHnyKmQgCA1GoCnapC\"},\"y\":[\"Oceania\",\"Africa\",\"South America\",\"North America\",\"Europe\",\"Asia\"],\"type\":\"bar\"}],\"layout\":{\"bargap\":0.15,\"font\":{\"size\":14},\"plot_bgcolor\":\"#FFFFFF\",\"title\":{\"text\":\"GDP by Continent\"},\"xaxis\":{\"range\":[0,63289441371136.0],\"showline\":true,\"visible\":true},\"yaxis\":{\"showline\":false,\"visible\":true}},\"name\":\"1988\"},{\"data\":[{\"cliponaxis\":false,\"hoverinfo\":\"all\",\"hovertemplate\":\"\\u003cextra\\u003e\\u003c\\u002fextra\\u003e\",\"marker\":{\"color\":[\"rgb(120, 123, 89)\",\"rgb(229, 182, 216)\",\"rgb(138, 69, 251)\",\"rgb(150, 137, 65)\",\"rgb(65, 225, 119)\",\"rgb(43, 228, 121)\"]},\"orientation\":\"h\",\"textangle\":0,\"textposition\":\"outside\",\"texttemplate\":\"%{y}\\u003cbr\\u003e%{x:.4s}\",\"x\":{\"dtype\":\"f8\",\"bdata\":\"AIA1cQ8rYEIAgPx29Dd6QgAA4GCFzoJCAADdhtEroEIAgMPhjNGmQgAAAy4FkKtC\"},\"y\":[\"Oceania\",\"Africa\",\"South America\",\"North America\",\"Europe\",\"Asia\"],\"type\":\"bar\"}],\"layout\":{\"bargap\":0.15,\"font\":{\"size\":14},\"plot_bgcolor\":\"#FFFFFF\",\"title\":{\"text\":\"GDP by Continent\"},\"xaxis\":{\"range\":[0,63289441371136.0],\"showline\":true,\"visible\":true},\"yaxis\":{\"showline\":false,\"visible\":true}},\"name\":\"1989\"},{\"data\":[{\"cliponaxis\":false,\"hoverinfo\":\"all\",\"hovertemplate\":\"\\u003cextra\\u003e\\u003c\\u002fextra\\u003e\",\"marker\":{\"color\":[\"rgb(120, 123, 89)\",\"rgb(229, 182, 216)\",\"rgb(138, 69, 251)\",\"rgb(150, 137, 65)\",\"rgb(65, 225, 119)\",\"rgb(43, 228, 121)\"]},\"orientation\":\"h\",\"textangle\":0,\"textposition\":\"outside\",\"texttemplate\":\"%{y}\\u003cbr\\u003e%{x:.4s}\",\"x\":{\"dtype\":\"f8\",\"bdata\":\"AMClhpFkYEIAABQ4\\u002fh17QgAAJB2xc4JCAACkYyhzoEIAAEUMnUynQgAAC6Q4u6xC\"},\"y\":[\"Oceania\",\"Africa\",\"South America\",\"North America\",\"Europe\",\"Asia\"],\"type\":\"bar\"}],\"layout\":{\"bargap\":0.15,\"font\":{\"size\":14},\"plot_bgcolor\":\"#FFFFFF\",\"title\":{\"text\":\"GDP by Continent\"},\"xaxis\":{\"range\":[0,63289441371136.0],\"showline\":true,\"visible\":true},\"yaxis\":{\"showline\":false,\"visible\":true}},\"name\":\"1990\"},{\"data\":[{\"cliponaxis\":false,\"hoverinfo\":\"all\",\"hovertemplate\":\"\\u003cextra\\u003e\\u003c\\u002fextra\\u003e\",\"marker\":{\"color\":[\"rgb(120, 123, 89)\",\"rgb(229, 182, 216)\",\"rgb(138, 69, 251)\",\"rgb(150, 137, 65)\",\"rgb(65, 225, 119)\",\"rgb(43, 228, 121)\"]},\"orientation\":\"h\",\"textangle\":0,\"textposition\":\"outside\",\"texttemplate\":\"%{y}\\u003cbr\\u003e%{x:.4s}\",\"x\":{\"dtype\":\"f8\",\"bdata\":\"AIDB0U5oYEIAAIsJJct7QgAASIfGG4NCAAAGkg9noEIAgIl+W1mnQgAAeEzk+axC\"},\"y\":[\"Oceania\",\"Africa\",\"South America\",\"North America\",\"Europe\",\"Asia\"],\"type\":\"bar\"}],\"layout\":{\"bargap\":0.15,\"font\":{\"size\":14},\"plot_bgcolor\":\"#FFFFFF\",\"title\":{\"text\":\"GDP by Continent\"},\"xaxis\":{\"range\":[0,63289441371136.0],\"showline\":true,\"visible\":true},\"yaxis\":{\"showline\":false,\"visible\":true}},\"name\":\"1991\"},{\"data\":[{\"cliponaxis\":false,\"hoverinfo\":\"all\",\"hovertemplate\":\"\\u003cextra\\u003e\\u003c\\u002fextra\\u003e\",\"marker\":{\"color\":[\"rgb(120, 123, 89)\",\"rgb(229, 182, 216)\",\"rgb(138, 69, 251)\",\"rgb(150, 137, 65)\",\"rgb(65, 225, 119)\",\"rgb(43, 228, 121)\"]},\"orientation\":\"h\",\"textangle\":0,\"textposition\":\"outside\",\"texttemplate\":\"%{y}\\u003cbr\\u003e%{x:.4s}\",\"x\":{\"dtype\":\"f8\",\"bdata\":\"AECdJRTGYEIAADaUNSt8QgAAiCTLnoNCAAAo6QbxoEIAAEuYC2WnQgAA9vevfa1C\"},\"y\":[\"Oceania\",\"Africa\",\"South America\",\"North America\",\"Europe\",\"Asia\"],\"type\":\"bar\"}],\"layout\":{\"bargap\":0.15,\"font\":{\"size\":14},\"plot_bgcolor\":\"#FFFFFF\",\"title\":{\"text\":\"GDP by Continent\"},\"xaxis\":{\"range\":[0,63289441371136.0],\"showline\":true,\"visible\":true},\"yaxis\":{\"showline\":false,\"visible\":true}},\"name\":\"1992\"},{\"data\":[{\"cliponaxis\":false,\"hoverinfo\":\"all\",\"hovertemplate\":\"\\u003cextra\\u003e\\u003c\\u002fextra\\u003e\",\"marker\":{\"color\":[\"rgb(120, 123, 89)\",\"rgb(229, 182, 216)\",\"rgb(138, 69, 251)\",\"rgb(150, 137, 65)\",\"rgb(65, 225, 119)\",\"rgb(43, 228, 121)\"]},\"orientation\":\"h\",\"textangle\":0,\"textposition\":\"outside\",\"texttemplate\":\"%{y}\\u003cbr\\u003e%{x:.4s}\",\"x\":{\"dtype\":\"f8\",\"bdata\":\"AMBKcNuBYUIAAMckf0l8QgAAvH76loRCAACny\\u002fhnoUIAgKWKy02nQgAAh5GeRq5C\"},\"y\":[\"Oceania\",\"Africa\",\"South America\",\"North America\",\"Europe\",\"Asia\"],\"type\":\"bar\"}],\"layout\":{\"bargap\":0.15,\"font\":{\"size\":14},\"plot_bgcolor\":\"#FFFFFF\",\"title\":{\"text\":\"GDP by Continent\"},\"xaxis\":{\"range\":[0,63289441371136.0],\"showline\":true,\"visible\":true},\"yaxis\":{\"showline\":false,\"visible\":true}},\"name\":\"1993\"},{\"data\":[{\"cliponaxis\":false,\"hoverinfo\":\"all\",\"hovertemplate\":\"\\u003cextra\\u003e\\u003c\\u002fextra\\u003e\",\"marker\":{\"color\":[\"rgb(120, 123, 89)\",\"rgb(229, 182, 216)\",\"rgb(138, 69, 251)\",\"rgb(150, 137, 65)\",\"rgb(65, 225, 119)\",\"rgb(43, 228, 121)\"]},\"orientation\":\"h\",\"textangle\":0,\"textposition\":\"outside\",\"texttemplate\":\"%{y}\\u003cbr\\u003e%{x:.4s}\",\"x\":{\"dtype\":\"f8\",\"bdata\":\"AICXNJg8YkIAAAkeTMp8QgAAKAY\\u002fvYVCAABDEUYdokIAACsX5PGnQgAAnxla0a5C\"},\"y\":[\"Oceania\",\"Africa\",\"South America\",\"North America\",\"Europe\",\"Asia\"],\"type\":\"bar\"}],\"layout\":{\"bargap\":0.15,\"font\":{\"size\":14},\"plot_bgcolor\":\"#FFFFFF\",\"title\":{\"text\":\"GDP by Continent\"},\"xaxis\":{\"range\":[0,63289441371136.0],\"showline\":true,\"visible\":true},\"yaxis\":{\"showline\":false,\"visible\":true}},\"name\":\"1994\"},{\"data\":[{\"cliponaxis\":false,\"hoverinfo\":\"all\",\"hovertemplate\":\"\\u003cextra\\u003e\\u003c\\u002fextra\\u003e\",\"marker\":{\"color\":[\"rgb(120, 123, 89)\",\"rgb(229, 182, 216)\",\"rgb(138, 69, 251)\",\"rgb(150, 137, 65)\",\"rgb(65, 225, 119)\",\"rgb(43, 228, 121)\"]},\"orientation\":\"h\",\"textangle\":0,\"textposition\":\"outside\",\"texttemplate\":\"%{y}\\u003cbr\\u003e%{x:.4s}\",\"x\":{\"dtype\":\"f8\",\"bdata\":\"AIDwr\\u002fDuYkIAAFJMd659QgAAMJpCdoZCAADyRNaZokIAAIgNFo+oQgAAqVdfa7BC\"},\"y\":[\"Oceania\",\"Africa\",\"South America\",\"North America\",\"Europe\",\"Asia\"],\"type\":\"bar\"}],\"layout\":{\"bargap\":0.15,\"font\":{\"size\":14},\"plot_bgcolor\":\"#FFFFFF\",\"title\":{\"text\":\"GDP by Continent\"},\"xaxis\":{\"range\":[0,63289441371136.0],\"showline\":true,\"visible\":true},\"yaxis\":{\"showline\":false,\"visible\":true}},\"name\":\"1995\"},{\"data\":[{\"cliponaxis\":false,\"hoverinfo\":\"all\",\"hovertemplate\":\"\\u003cextra\\u003e\\u003c\\u002fextra\\u003e\",\"marker\":{\"color\":[\"rgb(120, 123, 89)\",\"rgb(229, 182, 216)\",\"rgb(138, 69, 251)\",\"rgb(150, 137, 65)\",\"rgb(65, 225, 119)\",\"rgb(43, 228, 121)\"]},\"orientation\":\"h\",\"textangle\":0,\"textposition\":\"outside\",\"texttemplate\":\"%{y}\\u003cbr\\u003e%{x:.4s}\",\"x\":{\"dtype\":\"f8\",\"bdata\":\"AMBl5D2qY0IAAPCGcEB\\u002fQgAASA0PIodCAADvHoVEo0IAAJlffhapQgCADFkuC7FC\"},\"y\":[\"Oceania\",\"Africa\",\"South America\",\"North America\",\"Europe\",\"Asia\"],\"type\":\"bar\"}],\"layout\":{\"bargap\":0.15,\"font\":{\"size\":14},\"plot_bgcolor\":\"#FFFFFF\",\"title\":{\"text\":\"GDP by Continent\"},\"xaxis\":{\"range\":[0,63289441371136.0],\"showline\":true,\"visible\":true},\"yaxis\":{\"showline\":false,\"visible\":true}},\"name\":\"1996\"},{\"data\":[{\"cliponaxis\":false,\"hoverinfo\":\"all\",\"hovertemplate\":\"\\u003cextra\\u003e\\u003c\\u002fextra\\u003e\",\"marker\":{\"color\":[\"rgb(120, 123, 89)\",\"rgb(229, 182, 216)\",\"rgb(138, 69, 251)\",\"rgb(150, 137, 65)\",\"rgb(65, 225, 119)\",\"rgb(43, 228, 121)\"]},\"orientation\":\"h\",\"textangle\":0,\"textposition\":\"outside\",\"texttemplate\":\"%{y}\\u003cbr\\u003e%{x:.4s}\",\"x\":{\"dtype\":\"f8\",\"bdata\":\"AED4CUBqZEIAgOZvSSCAQgAASEppOohCAABv\\u002fCgfpEIAgHwJw9GpQgCAYbNntbFC\"},\"y\":[\"Oceania\",\"Africa\",\"South America\",\"North America\",\"Europe\",\"Asia\"],\"type\":\"bar\"}],\"layout\":{\"bargap\":0.15,\"font\":{\"size\":14},\"plot_bgcolor\":\"#FFFFFF\",\"title\":{\"text\":\"GDP by Continent\"},\"xaxis\":{\"range\":[0,63289441371136.0],\"showline\":true,\"visible\":true},\"yaxis\":{\"showline\":false,\"visible\":true}},\"name\":\"1997\"},{\"data\":[{\"cliponaxis\":false,\"hoverinfo\":\"all\",\"hovertemplate\":\"\\u003cextra\\u003e\\u003c\\u002fextra\\u003e\",\"marker\":{\"color\":[\"rgb(120, 123, 89)\",\"rgb(229, 182, 216)\",\"rgb(138, 69, 251)\",\"rgb(150, 137, 65)\",\"rgb(65, 225, 119)\",\"rgb(43, 228, 121)\"]},\"orientation\":\"h\",\"textangle\":0,\"textposition\":\"outside\",\"texttemplate\":\"%{y}\\u003cbr\\u003e%{x:.4s}\",\"x\":{\"dtype\":\"f8\",\"bdata\":\"AABl3UhMZUIAgFsaHLqAQgAAMHrQg4hCAAB0aXEDpUIAANNWppmqQgAAiffwnLFC\"},\"y\":[\"Oceania\",\"Africa\",\"South America\",\"North America\",\"Europe\",\"Asia\"],\"type\":\"bar\"}],\"layout\":{\"bargap\":0.15,\"font\":{\"size\":14},\"plot_bgcolor\":\"#FFFFFF\",\"title\":{\"text\":\"GDP by Continent\"},\"xaxis\":{\"range\":[0,63289441371136.0],\"showline\":true,\"visible\":true},\"yaxis\":{\"showline\":false,\"visible\":true}},\"name\":\"1998\"},{\"data\":[{\"cliponaxis\":false,\"hoverinfo\":\"all\",\"hovertemplate\":\"\\u003cextra\\u003e\\u003c\\u002fextra\\u003e\",\"marker\":{\"color\":[\"rgb(120, 123, 89)\",\"rgb(229, 182, 216)\",\"rgb(138, 69, 251)\",\"rgb(150, 137, 65)\",\"rgb(65, 225, 119)\",\"rgb(43, 228, 121)\"]},\"orientation\":\"h\",\"textangle\":0,\"textposition\":\"outside\",\"texttemplate\":\"%{y}\\u003cbr\\u003e%{x:.4s}\",\"x\":{\"dtype\":\"f8\",\"bdata\":\"AAC5VIQ8ZkIAAGxBV0OBQgAAiFMZMYhCAABXH\\u002f4GpkIAgJlGQ1erQgCALLxrULJC\"},\"y\":[\"Oceania\",\"Africa\",\"South America\",\"North America\",\"Europe\",\"Asia\"],\"type\":\"bar\"}],\"layout\":{\"bargap\":0.15,\"font\":{\"size\":14},\"plot_bgcolor\":\"#FFFFFF\",\"title\":{\"text\":\"GDP by Continent\"},\"xaxis\":{\"range\":[0,63289441371136.0],\"showline\":true,\"visible\":true},\"yaxis\":{\"showline\":false,\"visible\":true}},\"name\":\"1999\"},{\"data\":[{\"cliponaxis\":false,\"hoverinfo\":\"all\",\"hovertemplate\":\"\\u003cextra\\u003e\\u003c\\u002fextra\\u003e\",\"marker\":{\"color\":[\"rgb(120, 123, 89)\",\"rgb(229, 182, 216)\",\"rgb(138, 69, 251)\",\"rgb(150, 137, 65)\",\"rgb(65, 225, 119)\",\"rgb(43, 228, 121)\"]},\"orientation\":\"h\",\"textangle\":0,\"textposition\":\"outside\",\"texttemplate\":\"%{y}\\u003cbr\\u003e%{x:.4s}\",\"x\":{\"dtype\":\"f8\",\"bdata\":\"AADot7LcZkIAAPRko+mBQgAA+Lep4ohCAADWZjHypkIAgLm7QGysQgAAhcfhYrNC\"},\"y\":[\"Oceania\",\"Africa\",\"South America\",\"North America\",\"Europe\",\"Asia\"],\"type\":\"bar\"}],\"layout\":{\"bargap\":0.15,\"font\":{\"size\":14},\"plot_bgcolor\":\"#FFFFFF\",\"title\":{\"text\":\"GDP by Continent\"},\"xaxis\":{\"range\":[0,63289441371136.0],\"showline\":true,\"visible\":true},\"yaxis\":{\"showline\":false,\"visible\":true}},\"name\":\"2000\"},{\"data\":[{\"cliponaxis\":false,\"hoverinfo\":\"all\",\"hovertemplate\":\"\\u003cextra\\u003e\\u003c\\u002fextra\\u003e\",\"marker\":{\"color\":[\"rgb(120, 123, 89)\",\"rgb(229, 182, 216)\",\"rgb(138, 69, 251)\",\"rgb(150, 137, 65)\",\"rgb(65, 225, 119)\",\"rgb(43, 228, 121)\"]},\"orientation\":\"h\",\"textangle\":0,\"textposition\":\"outside\",\"texttemplate\":\"%{y}\\u003cbr\\u003e%{x:.4s}\",\"x\":{\"dtype\":\"f8\",\"bdata\":\"AEC3foSLZ0IAANNlwZ2CQgAAEIjlBolCAABx\\u002fJgup0IAgBXlaxStQgAAYsJvDbRC\"},\"y\":[\"Oceania\",\"Africa\",\"South America\",\"North America\",\"Europe\",\"Asia\"],\"type\":\"bar\"}],\"layout\":{\"bargap\":0.15,\"font\":{\"size\":14},\"plot_bgcolor\":\"#FFFFFF\",\"title\":{\"text\":\"GDP by Continent\"},\"xaxis\":{\"range\":[0,63289441371136.0],\"showline\":true,\"visible\":true},\"yaxis\":{\"showline\":false,\"visible\":true}},\"name\":\"2001\"},{\"data\":[{\"cliponaxis\":false,\"hoverinfo\":\"all\",\"hovertemplate\":\"\\u003cextra\\u003e\\u003c\\u002fextra\\u003e\",\"marker\":{\"color\":[\"rgb(120, 123, 89)\",\"rgb(229, 182, 216)\",\"rgb(138, 69, 251)\",\"rgb(150, 137, 65)\",\"rgb(65, 225, 119)\",\"rgb(43, 228, 121)\"]},\"orientation\":\"h\",\"textangle\":0,\"textposition\":\"outside\",\"texttemplate\":\"%{y}\\u003cbr\\u003e%{x:.4s}\",\"x\":{\"dtype\":\"f8\",\"bdata\":\"AIAaT+VlaEIAgICng5eDQgAASHVPFIlCAACEJvaZp0IAAGCcdXetQgAAFTIFELVC\"},\"y\":[\"Oceania\",\"Africa\",\"South America\",\"North America\",\"Europe\",\"Asia\"],\"type\":\"bar\"}],\"layout\":{\"bargap\":0.15,\"font\":{\"size\":14},\"plot_bgcolor\":\"#FFFFFF\",\"title\":{\"text\":\"GDP by Continent\"},\"xaxis\":{\"range\":[0,63289441371136.0],\"showline\":true,\"visible\":true},\"yaxis\":{\"showline\":false,\"visible\":true}},\"name\":\"2002\"},{\"data\":[{\"cliponaxis\":false,\"hoverinfo\":\"all\",\"hovertemplate\":\"\\u003cextra\\u003e\\u003c\\u002fextra\\u003e\",\"marker\":{\"color\":[\"rgb(120, 123, 89)\",\"rgb(229, 182, 216)\",\"rgb(138, 69, 251)\",\"rgb(150, 137, 65)\",\"rgb(65, 225, 119)\",\"rgb(43, 228, 121)\"]},\"orientation\":\"h\",\"textangle\":0,\"textposition\":\"outside\",\"texttemplate\":\"%{y}\\u003cbr\\u003e%{x:.4s}\",\"x\":{\"dtype\":\"f8\",\"bdata\":\"AMCYum1TaUIAQCiv4piEQgAA8F7nv4lCAADk1p09qEIAAPMs\\u002fNytQgAACZ4YULZC\"},\"y\":[\"Oceania\",\"Africa\",\"South America\",\"North America\",\"Europe\",\"Asia\"],\"type\":\"bar\"}],\"layout\":{\"bargap\":0.15,\"font\":{\"size\":14},\"plot_bgcolor\":\"#FFFFFF\",\"title\":{\"text\":\"GDP by Continent\"},\"xaxis\":{\"range\":[0,63289441371136.0],\"showline\":true,\"visible\":true},\"yaxis\":{\"showline\":false,\"visible\":true}},\"name\":\"2003\"},{\"data\":[{\"cliponaxis\":false,\"hoverinfo\":\"all\",\"hovertemplate\":\"\\u003cextra\\u003e\\u003c\\u002fextra\\u003e\",\"marker\":{\"color\":[\"rgb(120, 123, 89)\",\"rgb(229, 182, 216)\",\"rgb(138, 69, 251)\",\"rgb(150, 137, 65)\",\"rgb(65, 225, 119)\",\"rgb(43, 228, 121)\"]},\"orientation\":\"h\",\"textangle\":0,\"textposition\":\"outside\",\"texttemplate\":\"%{y}\\u003cbr\\u003e%{x:.4s}\",\"x\":{\"dtype\":\"f8\",\"bdata\":\"AICIIJA9akIAwKhKZ8yFQgAAAN3ae4tCAAAmoI4oqUIAgBHncLKuQgAArl68AbhC\"},\"y\":[\"Oceania\",\"Africa\",\"South America\",\"North America\",\"Europe\",\"Asia\"],\"type\":\"bar\"}],\"layout\":{\"bargap\":0.15,\"font\":{\"size\":14},\"plot_bgcolor\":\"#FFFFFF\",\"title\":{\"text\":\"GDP by Continent\"},\"xaxis\":{\"range\":[0,63289441371136.0],\"showline\":true,\"visible\":true},\"yaxis\":{\"showline\":false,\"visible\":true}},\"name\":\"2004\"},{\"data\":[{\"cliponaxis\":false,\"hoverinfo\":\"all\",\"hovertemplate\":\"\\u003cextra\\u003e\\u003c\\u002fextra\\u003e\",\"marker\":{\"color\":[\"rgb(120, 123, 89)\",\"rgb(229, 182, 216)\",\"rgb(138, 69, 251)\",\"rgb(150, 137, 65)\",\"rgb(65, 225, 119)\",\"rgb(43, 228, 121)\"]},\"orientation\":\"h\",\"textangle\":0,\"textposition\":\"outside\",\"texttemplate\":\"%{y}\\u003cbr\\u003e%{x:.4s}\",\"x\":{\"dtype\":\"f8\",\"bdata\":\"AICr\\u002fDAHa0IAwHqopSOHQgAAcHRa2oxCAAAeeVEHqkIAgGB7IWGvQgAApmlcfrlC\"},\"y\":[\"Oceania\",\"Africa\",\"South America\",\"North America\",\"Europe\",\"Asia\"],\"type\":\"bar\"}],\"layout\":{\"bargap\":0.15,\"font\":{\"size\":14},\"plot_bgcolor\":\"#FFFFFF\",\"title\":{\"text\":\"GDP by Continent\"},\"xaxis\":{\"range\":[0,63289441371136.0],\"showline\":true,\"visible\":true},\"yaxis\":{\"showline\":false,\"visible\":true}},\"name\":\"2005\"},{\"data\":[{\"cliponaxis\":false,\"hoverinfo\":\"all\",\"hovertemplate\":\"\\u003cextra\\u003e\\u003c\\u002fextra\\u003e\",\"marker\":{\"color\":[\"rgb(120, 123, 89)\",\"rgb(229, 182, 216)\",\"rgb(138, 69, 251)\",\"rgb(150, 137, 65)\",\"rgb(65, 225, 119)\",\"rgb(43, 228, 121)\"]},\"orientation\":\"h\",\"textangle\":0,\"textposition\":\"outside\",\"texttemplate\":\"%{y}\\u003cbr\\u003e%{x:.4s}\",\"x\":{\"dtype\":\"f8\",\"bdata\":\"AEDj\\u002f0jja0IAwFP8JYaIQgAAMJGhcY5CAACQgfe\\u002fqkIAgHtVSz2wQgAAki5HabtC\"},\"y\":[\"Oceania\",\"Africa\",\"South America\",\"North America\",\"Europe\",\"Asia\"],\"type\":\"bar\"}],\"layout\":{\"bargap\":0.15,\"font\":{\"size\":14},\"plot_bgcolor\":\"#FFFFFF\",\"title\":{\"text\":\"GDP by Continent\"},\"xaxis\":{\"range\":[0,63289441371136.0],\"showline\":true,\"visible\":true},\"yaxis\":{\"showline\":false,\"visible\":true}},\"name\":\"2006\"},{\"data\":[{\"cliponaxis\":false,\"hoverinfo\":\"all\",\"hovertemplate\":\"\\u003cextra\\u003e\\u003c\\u002fextra\\u003e\",\"marker\":{\"color\":[\"rgb(120, 123, 89)\",\"rgb(229, 182, 216)\",\"rgb(138, 69, 251)\",\"rgb(150, 137, 65)\",\"rgb(65, 225, 119)\",\"rgb(43, 228, 121)\"]},\"orientation\":\"h\",\"textangle\":0,\"textposition\":\"outside\",\"texttemplate\":\"%{y}\\u003cbr\\u003e%{x:.4s}\",\"x\":{\"dtype\":\"f8\",\"bdata\":\"AICOkEPqbEIAAPTgaA2KQgAAQKA\\u002fPJBCAADoDhpKq0IAgF4L6MWwQgAAwu3Ug71C\"},\"y\":[\"Oceania\",\"Africa\",\"South America\",\"North America\",\"Europe\",\"Asia\"],\"type\":\"bar\"}],\"layout\":{\"bargap\":0.15,\"font\":{\"size\":14},\"plot_bgcolor\":\"#FFFFFF\",\"title\":{\"text\":\"GDP by Continent\"},\"xaxis\":{\"range\":[0,63289441371136.0],\"showline\":true,\"visible\":true},\"yaxis\":{\"showline\":false,\"visible\":true}},\"name\":\"2007\"},{\"data\":[{\"cliponaxis\":false,\"hoverinfo\":\"all\",\"hovertemplate\":\"\\u003cextra\\u003e\\u003c\\u002fextra\\u003e\",\"marker\":{\"color\":[\"rgb(120, 123, 89)\",\"rgb(229, 182, 216)\",\"rgb(138, 69, 251)\",\"rgb(150, 137, 65)\",\"rgb(65, 225, 119)\",\"rgb(43, 228, 121)\"]},\"orientation\":\"h\",\"textangle\":0,\"textposition\":\"outside\",\"texttemplate\":\"%{y}\\u003cbr\\u003e%{x:.4s}\",\"x\":{\"dtype\":\"f8\",\"bdata\":\"AIDBUL6ObUIAwPEELV6LQgAAiH+ECJFCAABkVBxYq0IAgHNGBeqwQgAAG3xis75C\"},\"y\":[\"Oceania\",\"Africa\",\"South America\",\"North America\",\"Europe\",\"Asia\"],\"type\":\"bar\"}],\"layout\":{\"bargap\":0.15,\"font\":{\"size\":14},\"plot_bgcolor\":\"#FFFFFF\",\"title\":{\"text\":\"GDP by Continent\"},\"xaxis\":{\"range\":[0,63289441371136.0],\"showline\":true,\"visible\":true},\"yaxis\":{\"showline\":false,\"visible\":true}},\"name\":\"2008\"},{\"data\":[{\"cliponaxis\":false,\"hoverinfo\":\"all\",\"hovertemplate\":\"\\u003cextra\\u003e\\u003c\\u002fextra\\u003e\",\"marker\":{\"color\":[\"rgb(120, 123, 89)\",\"rgb(229, 182, 216)\",\"rgb(138, 69, 251)\",\"rgb(150, 137, 65)\",\"rgb(65, 225, 119)\",\"rgb(43, 228, 121)\"]},\"orientation\":\"h\",\"textangle\":0,\"textposition\":\"outside\",\"texttemplate\":\"%{y}\\u003cbr\\u003e%{x:.4s}\",\"x\":{\"dtype\":\"f8\",\"bdata\":\"AEBCWO4ibkIAADdrv1+MQgAAkJDs2ZBCAAA8RSmgqkIAANgi2TOwQgAAh2jPKb9C\"},\"y\":[\"Oceania\",\"Africa\",\"South America\",\"North America\",\"Europe\",\"Asia\"],\"type\":\"bar\"}],\"layout\":{\"bargap\":0.15,\"font\":{\"size\":14},\"plot_bgcolor\":\"#FFFFFF\",\"title\":{\"text\":\"GDP by Continent\"},\"xaxis\":{\"range\":[0,63289441371136.0],\"showline\":true,\"visible\":true},\"yaxis\":{\"showline\":false,\"visible\":true}},\"name\":\"2009\"},{\"data\":[{\"cliponaxis\":false,\"hoverinfo\":\"all\",\"hovertemplate\":\"\\u003cextra\\u003e\\u003c\\u002fextra\\u003e\",\"marker\":{\"color\":[\"rgb(120, 123, 89)\",\"rgb(229, 182, 216)\",\"rgb(138, 69, 251)\",\"rgb(150, 137, 65)\",\"rgb(65, 225, 119)\",\"rgb(43, 228, 121)\"]},\"orientation\":\"h\",\"textangle\":0,\"textposition\":\"outside\",\"texttemplate\":\"%{y}\\u003cbr\\u003e%{x:.4s}\",\"x\":{\"dtype\":\"f8\",\"bdata\":\"AMDcnFDZbkIAgMiWituNQgAAuMwZDZJCAAAyN\\u002f5aq0IAgLnqE4qwQgAAW6d1ssBC\"},\"y\":[\"Oceania\",\"Africa\",\"South America\",\"North America\",\"Europe\",\"Asia\"],\"type\":\"bar\"}],\"layout\":{\"bargap\":0.15,\"font\":{\"size\":14},\"plot_bgcolor\":\"#FFFFFF\",\"title\":{\"text\":\"GDP by Continent\"},\"xaxis\":{\"range\":[0,63289441371136.0],\"showline\":true,\"visible\":true},\"yaxis\":{\"showline\":false,\"visible\":true}},\"name\":\"2010\"},{\"data\":[{\"cliponaxis\":false,\"hoverinfo\":\"all\",\"hovertemplate\":\"\\u003cextra\\u003e\\u003c\\u002fextra\\u003e\",\"marker\":{\"color\":[\"rgb(120, 123, 89)\",\"rgb(229, 182, 216)\",\"rgb(138, 69, 251)\",\"rgb(150, 137, 65)\",\"rgb(65, 225, 119)\",\"rgb(43, 228, 121)\"]},\"orientation\":\"h\",\"textangle\":0,\"textposition\":\"outside\",\"texttemplate\":\"%{y}\\u003cbr\\u003e%{x:.4s}\",\"x\":{\"dtype\":\"f8\",\"bdata\":\"AMBuRwvFb0IAgC4hpqmOQgAAgNrv9ZJCAAD8HBbRq0IAAPx+QtawQgAAdtyQo8FC\"},\"y\":[\"Oceania\",\"Africa\",\"South America\",\"North America\",\"Europe\",\"Asia\"],\"type\":\"bar\"}],\"layout\":{\"bargap\":0.15,\"font\":{\"size\":14},\"plot_bgcolor\":\"#FFFFFF\",\"title\":{\"text\":\"GDP by Continent\"},\"xaxis\":{\"range\":[0,63289441371136.0],\"showline\":true,\"visible\":true},\"yaxis\":{\"showline\":false,\"visible\":true}},\"name\":\"2011\"},{\"data\":[{\"cliponaxis\":false,\"hoverinfo\":\"all\",\"hovertemplate\":\"\\u003cextra\\u003e\\u003c\\u002fextra\\u003e\",\"marker\":{\"color\":[\"rgb(120, 123, 89)\",\"rgb(229, 182, 216)\",\"rgb(138, 69, 251)\",\"rgb(150, 137, 65)\",\"rgb(65, 225, 119)\",\"rgb(43, 228, 121)\"]},\"orientation\":\"h\",\"textangle\":0,\"textposition\":\"outside\",\"texttemplate\":\"%{y}\\u003cbr\\u003e%{x:.4s}\",\"x\":{\"dtype\":\"f8\",\"bdata\":\"AMAnbQBicEIAgOnNOi6QQgAAyPL9ZpNCAAAcohNwrEIAAJpD\\u002f8iwQgCAko3IgcJC\"},\"y\":[\"Oceania\",\"Africa\",\"South America\",\"North America\",\"Europe\",\"Asia\"],\"type\":\"bar\"}],\"layout\":{\"bargap\":0.15,\"font\":{\"size\":14},\"plot_bgcolor\":\"#FFFFFF\",\"title\":{\"text\":\"GDP by Continent\"},\"xaxis\":{\"range\":[0,63289441371136.0],\"showline\":true,\"visible\":true},\"yaxis\":{\"showline\":false,\"visible\":true}},\"name\":\"2012\"},{\"data\":[{\"cliponaxis\":false,\"hoverinfo\":\"all\",\"hovertemplate\":\"\\u003cextra\\u003e\\u003c\\u002fextra\\u003e\",\"marker\":{\"color\":[\"rgb(120, 123, 89)\",\"rgb(229, 182, 216)\",\"rgb(138, 69, 251)\",\"rgb(150, 137, 65)\",\"rgb(65, 225, 119)\",\"rgb(43, 228, 121)\"]},\"orientation\":\"h\",\"textangle\":0,\"textposition\":\"outside\",\"texttemplate\":\"%{y}\\u003cbr\\u003e%{x:.4s}\",\"x\":{\"dtype\":\"f8\",\"bdata\":\"AIAzYeDOcEIAAL07ANSQQgAAqHJ+E5RCAAASxX8LrUIAgLZh49OwQgCAqHGEcMNC\"},\"y\":[\"Oceania\",\"Africa\",\"South America\",\"North America\",\"Europe\",\"Asia\"],\"type\":\"bar\"}],\"layout\":{\"bargap\":0.15,\"font\":{\"size\":14},\"plot_bgcolor\":\"#FFFFFF\",\"title\":{\"text\":\"GDP by Continent\"},\"xaxis\":{\"range\":[0,63289441371136.0],\"showline\":true,\"visible\":true},\"yaxis\":{\"showline\":false,\"visible\":true}},\"name\":\"2013\"},{\"data\":[{\"cliponaxis\":false,\"hoverinfo\":\"all\",\"hovertemplate\":\"\\u003cextra\\u003e\\u003c\\u002fextra\\u003e\",\"marker\":{\"color\":[\"rgb(120, 123, 89)\",\"rgb(229, 182, 216)\",\"rgb(138, 69, 251)\",\"rgb(150, 137, 65)\",\"rgb(65, 225, 119)\",\"rgb(43, 228, 121)\"]},\"orientation\":\"h\",\"textangle\":0,\"textposition\":\"outside\",\"texttemplate\":\"%{y}\\u003cbr\\u003e%{x:.4s}\",\"x\":{\"dtype\":\"f8\",\"bdata\":\"AMAHKttDcUIAAJmRT5KRQgAASD40N5RCAAB2LEzJrUIAALotSiWxQgCA30xRUMRC\"},\"y\":[\"Oceania\",\"Africa\",\"South America\",\"North America\",\"Europe\",\"Asia\"],\"type\":\"bar\"}],\"layout\":{\"bargap\":0.15,\"font\":{\"size\":14},\"plot_bgcolor\":\"#FFFFFF\",\"title\":{\"text\":\"GDP by Continent\"},\"xaxis\":{\"range\":[0,63289441371136.0],\"showline\":true,\"visible\":true},\"yaxis\":{\"showline\":false,\"visible\":true}},\"name\":\"2014\"},{\"data\":[{\"cliponaxis\":false,\"hoverinfo\":\"all\",\"hovertemplate\":\"\\u003cextra\\u003e\\u003c\\u002fextra\\u003e\",\"marker\":{\"color\":[\"rgb(120, 123, 89)\",\"rgb(229, 182, 216)\",\"rgb(138, 69, 251)\",\"rgb(150, 137, 65)\",\"rgb(65, 225, 119)\",\"rgb(43, 228, 121)\"]},\"orientation\":\"h\",\"textangle\":0,\"textposition\":\"outside\",\"texttemplate\":\"%{y}\\u003cbr\\u003e%{x:.4s}\",\"x\":{\"dtype\":\"f8\",\"bdata\":\"AMCz736+cUIAgKyl\\u002fTSSQgAAyNOjDZRCAAAK3W+arkIAAGE4IIuxQgCAwKqJNcVC\"},\"y\":[\"Oceania\",\"Africa\",\"South America\",\"North America\",\"Europe\",\"Asia\"],\"type\":\"bar\"}],\"layout\":{\"bargap\":0.15,\"font\":{\"size\":14},\"plot_bgcolor\":\"#FFFFFF\",\"title\":{\"text\":\"GDP by Continent\"},\"xaxis\":{\"range\":[0,63289441371136.0],\"showline\":true,\"visible\":true},\"yaxis\":{\"showline\":false,\"visible\":true}},\"name\":\"2015\"},{\"data\":[{\"cliponaxis\":false,\"hoverinfo\":\"all\",\"hovertemplate\":\"\\u003cextra\\u003e\\u003c\\u002fextra\\u003e\",\"marker\":{\"color\":[\"rgb(120, 123, 89)\",\"rgb(229, 182, 216)\",\"rgb(138, 69, 251)\",\"rgb(150, 137, 65)\",\"rgb(65, 225, 119)\",\"rgb(43, 228, 121)\"]},\"orientation\":\"h\",\"textangle\":0,\"textposition\":\"outside\",\"texttemplate\":\"%{y}\\u003cbr\\u003e%{x:.4s}\",\"x\":{\"dtype\":\"f8\",\"bdata\":\"AEA5q0Y9ckIAAP55LaeSQgAAeIeIr5NCAACSj3Ijr0IAgGIc4eWxQgAA4nlIL8ZC\"},\"y\":[\"Oceania\",\"Africa\",\"South America\",\"North America\",\"Europe\",\"Asia\"],\"type\":\"bar\"}],\"layout\":{\"bargap\":0.15,\"font\":{\"size\":14},\"plot_bgcolor\":\"#FFFFFF\",\"title\":{\"text\":\"GDP by Continent\"},\"xaxis\":{\"range\":[0,63289441371136.0],\"showline\":true,\"visible\":true},\"yaxis\":{\"showline\":false,\"visible\":true}},\"name\":\"2016\"},{\"data\":[{\"cliponaxis\":false,\"hoverinfo\":\"all\",\"hovertemplate\":\"\\u003cextra\\u003e\\u003c\\u002fextra\\u003e\",\"marker\":{\"color\":[\"rgb(120, 123, 89)\",\"rgb(229, 182, 216)\",\"rgb(138, 69, 251)\",\"rgb(150, 137, 65)\",\"rgb(65, 225, 119)\",\"rgb(43, 228, 121)\"]},\"orientation\":\"h\",\"textangle\":0,\"textposition\":\"outside\",\"texttemplate\":\"%{y}\\u003cbr\\u003e%{x:.4s}\",\"x\":{\"dtype\":\"f8\",\"bdata\":\"AMB7OTHCckIAgAyxkVaTQgAA+JHs8JNCAAAcAVLrr0IAgN0932qyQgCAPGRST8dC\"},\"y\":[\"Oceania\",\"Africa\",\"South America\",\"North America\",\"Europe\",\"Asia\"],\"type\":\"bar\"}],\"layout\":{\"bargap\":0.15,\"font\":{\"size\":14},\"plot_bgcolor\":\"#FFFFFF\",\"title\":{\"text\":\"GDP by Continent\"},\"xaxis\":{\"range\":[0,63289441371136.0],\"showline\":true,\"visible\":true},\"yaxis\":{\"showline\":false,\"visible\":true}},\"name\":\"2017\"},{\"data\":[{\"cliponaxis\":false,\"hoverinfo\":\"all\",\"hovertemplate\":\"\\u003cextra\\u003e\\u003c\\u002fextra\\u003e\",\"marker\":{\"color\":[\"rgb(120, 123, 89)\",\"rgb(229, 182, 216)\",\"rgb(138, 69, 251)\",\"rgb(150, 137, 65)\",\"rgb(65, 225, 119)\",\"rgb(43, 228, 121)\"]},\"orientation\":\"h\",\"textangle\":0,\"textposition\":\"outside\",\"texttemplate\":\"%{y}\\u003cbr\\u003e%{x:.4s}\",\"x\":{\"dtype\":\"f8\",\"bdata\":\"AAAcKppBc0IAAC\\u002fx8gmUQgAAsGM3IJRCAADVlyVusEIAAN62JNGyQgAA+SfKbchC\"},\"y\":[\"Oceania\",\"Africa\",\"South America\",\"North America\",\"Europe\",\"Asia\"],\"type\":\"bar\"}],\"layout\":{\"bargap\":0.15,\"font\":{\"size\":14},\"plot_bgcolor\":\"#FFFFFF\",\"title\":{\"text\":\"GDP by Continent\"},\"xaxis\":{\"range\":[0,63289441371136.0],\"showline\":true,\"visible\":true},\"yaxis\":{\"showline\":false,\"visible\":true}},\"name\":\"2018\"},{\"data\":[{\"cliponaxis\":false,\"hoverinfo\":\"all\",\"hovertemplate\":\"\\u003cextra\\u003e\\u003c\\u002fextra\\u003e\",\"marker\":{\"color\":[\"rgb(120, 123, 89)\",\"rgb(138, 69, 251)\",\"rgb(229, 182, 216)\",\"rgb(150, 137, 65)\",\"rgb(65, 225, 119)\",\"rgb(43, 228, 121)\"]},\"orientation\":\"h\",\"textangle\":0,\"textposition\":\"outside\",\"texttemplate\":\"%{y}\\u003cbr\\u003e%{x:.4s}\",\"x\":{\"dtype\":\"f8\",\"bdata\":\"AMAFS\\u002ft8c0IAAChjKjOUQgCAKi21opRCAAD6Yc3TsEIAgFtKqSyzQgAAXD9VWclC\"},\"y\":[\"Oceania\",\"South America\",\"Africa\",\"North America\",\"Europe\",\"Asia\"],\"type\":\"bar\"}],\"layout\":{\"bargap\":0.15,\"font\":{\"size\":14},\"plot_bgcolor\":\"#FFFFFF\",\"title\":{\"text\":\"GDP by Continent\"},\"xaxis\":{\"range\":[0,63289441371136.0],\"showline\":true,\"visible\":true},\"yaxis\":{\"showline\":false,\"visible\":true}},\"name\":\"2019\"},{\"data\":[{\"cliponaxis\":false,\"hoverinfo\":\"all\",\"hovertemplate\":\"\\u003cextra\\u003e\\u003c\\u002fextra\\u003e\",\"marker\":{\"color\":[\"rgb(120, 123, 89)\",\"rgb(138, 69, 251)\",\"rgb(229, 182, 216)\",\"rgb(150, 137, 65)\",\"rgb(65, 225, 119)\",\"rgb(43, 228, 121)\"]},\"orientation\":\"h\",\"textangle\":0,\"textposition\":\"outside\",\"texttemplate\":\"%{y}\\u003cbr\\u003e%{x:.4s}\",\"x\":{\"dtype\":\"f8\",\"bdata\":\"AMBQrh6ac0IAABA8ePmSQgAAGwQjd5RCAADo1OBpsEIAgJN6HAGyQgAAiMRkGslC\"},\"y\":[\"Oceania\",\"South America\",\"Africa\",\"North America\",\"Europe\",\"Asia\"],\"type\":\"bar\"}],\"layout\":{\"bargap\":0.15,\"font\":{\"size\":14},\"plot_bgcolor\":\"#FFFFFF\",\"title\":{\"text\":\"GDP by Continent\"},\"xaxis\":{\"range\":[0,63289441371136.0],\"showline\":true,\"visible\":true},\"yaxis\":{\"showline\":false,\"visible\":true}},\"name\":\"2020\"},{\"data\":[{\"cliponaxis\":false,\"hoverinfo\":\"all\",\"hovertemplate\":\"\\u003cextra\\u003e\\u003c\\u002fextra\\u003e\",\"marker\":{\"color\":[\"rgb(120, 123, 89)\",\"rgb(138, 69, 251)\",\"rgb(229, 182, 216)\",\"rgb(150, 137, 65)\",\"rgb(65, 225, 119)\",\"rgb(43, 228, 121)\"]},\"orientation\":\"h\",\"textangle\":0,\"textposition\":\"outside\",\"texttemplate\":\"%{y}\\u003cbr\\u003e%{x:.4s}\",\"x\":{\"dtype\":\"f8\",\"bdata\":\"AADiIWE1dEIAALjxKWiUQgAAsVEwmJVCAAAX\\u002f8xasUIAAL4G1CWzQgAAp0NIospC\"},\"y\":[\"Oceania\",\"South America\",\"Africa\",\"North America\",\"Europe\",\"Asia\"],\"type\":\"bar\"}],\"layout\":{\"bargap\":0.15,\"font\":{\"size\":14},\"plot_bgcolor\":\"#FFFFFF\",\"title\":{\"text\":\"GDP by Continent\"},\"xaxis\":{\"range\":[0,63289441371136.0],\"showline\":true,\"visible\":true},\"yaxis\":{\"showline\":false,\"visible\":true}},\"name\":\"2021\"},{\"data\":[{\"cliponaxis\":false,\"hoverinfo\":\"all\",\"hovertemplate\":\"\\u003cextra\\u003e\\u003c\\u002fextra\\u003e\",\"marker\":{\"color\":[\"rgb(120, 123, 89)\",\"rgb(138, 69, 251)\",\"rgb(229, 182, 216)\",\"rgb(150, 137, 65)\",\"rgb(65, 225, 119)\",\"rgb(43, 228, 121)\"]},\"orientation\":\"h\",\"textangle\":0,\"textposition\":\"outside\",\"texttemplate\":\"%{y}\\u003cbr\\u003e%{x:.4s}\",\"x\":{\"dtype\":\"f8\",\"bdata\":\"AACrHcXydEIAAGDenTOVQgCASwGpfJZCAAC\\u002fnEi2sUIAAB6Tn9azQgAAVBfcjMtC\"},\"y\":[\"Oceania\",\"South America\",\"Africa\",\"North America\",\"Europe\",\"Asia\"],\"type\":\"bar\"}],\"layout\":{\"bargap\":0.15,\"font\":{\"size\":14},\"plot_bgcolor\":\"#FFFFFF\",\"title\":{\"text\":\"GDP by Continent\"},\"xaxis\":{\"range\":[0,63289441371136.0],\"showline\":true,\"visible\":true},\"yaxis\":{\"showline\":false,\"visible\":true}},\"name\":\"2022\"},{\"data\":[{\"cliponaxis\":false,\"hoverinfo\":\"all\",\"hovertemplate\":\"\\u003cextra\\u003e\\u003c\\u002fextra\\u003e\",\"marker\":{\"color\":[\"rgb(120, 123, 89)\",\"rgb(138, 69, 251)\",\"rgb(229, 182, 216)\",\"rgb(150, 137, 65)\",\"rgb(65, 225, 119)\",\"rgb(43, 228, 121)\"]},\"orientation\":\"h\",\"textangle\":0,\"textposition\":\"outside\",\"texttemplate\":\"%{y}\\u003cbr\\u003e%{x:.4s}\",\"x\":{\"dtype\":\"f8\",\"bdata\":\"AIDGG1NbdUIAAKBO4oiVQgCA9lLnP5dCAABAlXUjskIAgEo\\u002favGzQgAA4lXcx8xC\"},\"y\":[\"Oceania\",\"South America\",\"Africa\",\"North America\",\"Europe\",\"Asia\"],\"type\":\"bar\"}],\"layout\":{\"bargap\":0.15,\"font\":{\"size\":14},\"plot_bgcolor\":\"#FFFFFF\",\"title\":{\"text\":\"GDP by Continent\"},\"xaxis\":{\"range\":[0,63289441371136.0],\"showline\":true,\"visible\":true},\"yaxis\":{\"showline\":false,\"visible\":true}},\"name\":\"2023\"}]);\n",
       "                        }).then(function(){\n",
       "                            \n",
       "var gd = document.getElementById('6663bfb5-d43a-445f-b60b-ab0ff7074798');\n",
       "var x = new MutationObserver(function (mutations, observer) {{\n",
       "        var display = window.getComputedStyle(gd).display;\n",
       "        if (!display || display === 'none') {{\n",
       "            console.log([gd, 'removed!']);\n",
       "            Plotly.purge(gd);\n",
       "            observer.disconnect();\n",
       "        }}\n",
       "}});\n",
       "\n",
       "// Listen for the removal of the full notebook cells\n",
       "var notebookContainer = gd.closest('#notebook-container');\n",
       "if (notebookContainer) {{\n",
       "    x.observe(notebookContainer, {childList: true});\n",
       "}}\n",
       "\n",
       "// Listen for the clearing of the current output cell\n",
       "var outputEl = gd.closest('.output');\n",
       "if (outputEl) {{\n",
       "    x.observe(outputEl, {childList: true});\n",
       "}}\n",
       "\n",
       "                        })                };            </script>        </div>"
      ]
     },
     "metadata": {},
     "output_type": "display_data"
    }
   ],
   "source": [
    "continent_gdp = {key:continent_df[key][continent_df[key]['variable'] == 'mgdproi999'][['year','value']] for key in continent_df.keys()}\n",
    "continent_gdp_df = pd.concat(\n",
    "    [\n",
    "        df.assign(continent=continent) \n",
    "        for continent, df in continent_gdp.items()\n",
    "    ],\n",
    "    ignore_index=True\n",
    ")[['continent', 'year', 'value']]\n",
    "\n",
    "my_raceplot = barplot(continent_gdp_df,\n",
    "                      item_column='continent',\n",
    "                      value_column='value',\n",
    "                      time_column='year')\n",
    "\n",
    "my_raceplot.plot(\n",
    "    title='GDP by Continent',\n",
    "    item_label='Continent',\n",
    "    value_label='GDP (EUR Trillions)',\n",
    "    frame_duration=300,\n",
    "    date_format = '%Y',\n",
    "    time_label='Year: '\n",
    ")"
   ]
  },
  {
   "cell_type": "code",
   "execution_count": null,
   "id": "7cda0f5a",
   "metadata": {},
   "outputs": [
    {
     "data": {
      "text/plain": [
       "1152"
      ]
     },
     "execution_count": 82,
     "metadata": {},
     "output_type": "execute_result"
    }
   ],
   "source": [
    "(country_dataframes['WID_data_CN'][\"variable\"].unique())"
   ]
  },
  {
   "cell_type": "code",
   "execution_count": 27,
   "id": "ef06007a",
   "metadata": {},
   "outputs": [
    {
     "data": {
      "text/plain": [
       "[array(['QB'], dtype=object),\n",
       " array(['QD'], dtype=object),\n",
       " array(['QE'], dtype=object),\n",
       " array(['QP'], dtype=object),\n",
       " array(['QR'], dtype=object),\n",
       " array(['QF'], dtype=object)]"
      ]
     },
     "execution_count": 27,
     "metadata": {},
     "output_type": "execute_result"
    }
   ],
   "source": [
    "[continent_df[cont][\"country\"].unique() for cont in continent_df.keys()]"
   ]
  },
  {
   "cell_type": "code",
   "execution_count": null,
   "id": "f629a738",
   "metadata": {},
   "outputs": [
    {
     "data": {
      "text/plain": [
       "<matplotlib.legend.Legend at 0x28114fb4150>"
      ]
     },
     "execution_count": 32,
     "metadata": {},
     "output_type": "execute_result"
    },
    {
     "data": {
      "image/png": "[encoded data removed]",
      "text/plain": [
       "<Figure size 640x480 with 1 Axes>"
      ]
     },
     "metadata": {},
     "output_type": "display_data"
    }
   ],
   "source": [
    "for continent in continent_df.keys():\n",
    "    # continent = \"Asia\"\n",
    "    vals = continent_gdp_df[continent_gdp_df[\"continent\"] == continent][\"value\"]\n",
    "    years = continent_gdp_df[continent_gdp_df[\"continent\"] == continent][\"year\"]\n",
    "    plt.plot(years,vals, label=continent)\n",
    "plt.legend()"
   ]
  },
  {
   "cell_type": "code",
   "execution_count": 83,
   "id": "9bdd5e93",
   "metadata": {},
   "outputs": [
    {
     "name": "stdout",
     "output_type": "stream",
     "text": [
      "473\n"
     ]
    }
   ],
   "source": [
    "all_vars = set()\n",
    "for continent in continent_df.keys():\n",
    "    all_vars = all_vars.union(set(continent_df[continent][\"variable\"].unique()))\n",
    "\n",
    "print(len(all_vars))"
   ]
  },
  {
   "cell_type": "code",
   "execution_count": 60,
   "id": "f69a610c",
   "metadata": {},
   "outputs": [],
   "source": [
    "def compare(coun1, coun2, var):\n",
    "    # coun1 = \"Germany\"\n",
    "    # coun2 = \"France\"\n",
    "    data1 = country_dataframes[f\"WID_data_{coun1}\"][country_dataframes[f\"WID_data_{coun1}\"]['variable'] == var][['year','value']]\n",
    "    data2 = country_dataframes[f\"WID_data_{coun2}\"][country_dataframes[f\"WID_data_{coun2}\"]['variable'] == var][['year','value']]\n",
    "    years1 = data1['year']\n",
    "    years2 = data2['year']\n",
    "    vals1 = data1['value']\n",
    "    vals2 = data2['value']\n",
    "    plt.plot(years1,vals1, label=coun1)\n",
    "    plt.plot(years2,vals2, label=coun2)\n",
    "    plt.legend()\n",
    "    plt.title(f\"{coun1} vs {coun2}\")\n",
    "    # plt.plot(years,np.log(vals1), label=coun1)\n",
    "    # plt.plot(years,np.log(vals2), label=coun2)\n",
    "    # plt.legend()\n",
    "    # plt.title(f\"{coun1} vs {coun2}\")\n",
    "    plt.show()\n",
    "\n",
    "\n"
   ]
  },
  {
   "cell_type": "code",
   "execution_count": null,
   "id": "2f475aa0",
   "metadata": {},
   "outputs": [],
   "source": [
    "def corr(vars, continent):\n",
    "    assert continent in continent_codes.keys(), f\"Continent {continent} not found\"\n",
    "    for var in vars:\n",
    "        assert var in continent_df[continent][\"variable\"].unique(), f\"Variable {var} not found in {continent}\"\n",
    "    df = continent_df[continent]\n",
    "    years_together = set()\n",
    "    valarrs = []\n",
    "    for var in vars:\n",
    "        var_df = df[df[\"variable\"] == var]\n",
    "        var_df = var_df.dropna(subset=[\"value\"])\n",
    "        assert len(var_df) == len(set(var_df[\"year\"])), f\"Variable {var} has duplicate years in {continent}\"\n",
    "        assert len(var_df) > 0, f\"Variable {var} has no data in {continent}\"\n",
    "        years_together = set(var_df[\"year\"]).intersection(years_together) if years_together else set(var_df[\"year\"])\n",
    "    \n",
    "    for var in vars:\n",
    "        var_df = df[df[\"variable\"] == var]\n",
    "        var_df = var_df.dropna(subset=[\"value\"])\n",
    "        var_df = var_df[var_df[\"year\"].isin(years_together)]\n",
    "        valarrs.append(var_df[\"value\"].values)\n",
    "    \n",
    "    assert len(set(len(arr) for arr in valarrs)) == 1, \"All variables must have the same number of years\"\n",
    "    assert len(valarrs) == len(vars), \"All variables must be present in the data\"\n",
    "    assert len(years_together) > 0, \"No years in common for the selected variables\"\n",
    "    \n",
    "    print(f\"Years in common for {continent}: {len(years_together)}\")\n",
    "    \n",
    "    # print(valarrs)\n",
    "    correlation = np.corrcoef(valarrs)\n",
    "    return correlation"
   ]
  },
  {
   "cell_type": "code",
   "execution_count": null,
   "id": "7726a15f",
   "metadata": {},
   "outputs": [],
   "source": [
    "corr([\"ehfcari999\", \"afinpxi992\", \"ennghgi999\"], \"Africa\")"
   ]
  },
  {
   "cell_type": "code",
   "execution_count": null,
   "id": "eeee7d1b",
   "metadata": {},
   "outputs": [
    {
     "data": {
      "text/plain": [
       "array(['aconfci992', 'agdproi992', 'agdproi999', 'agninci992',\n",
       "       'agninci999', 'ancanxi992', 'ancanxi999', 'andproi992',\n",
       "       'andproi999', 'anninci992', 'aconfci999', 'anninci999',\n",
       "       'inyixxi999', 'mconfci999', 'aptfrni992', 'aptfrni999',\n",
       "       'aptfrpi999', 'aptfrri992', 'afsubxi992', 'afsubxi999',\n",
       "       'aftaxxi992', 'aftaxxi999', 'mgdproi999', 'mgninci999',\n",
       "       'mncanxi999', 'mndproi999', 'mnninci999', 'aptfrpi992',\n",
       "       'aptfrri999', 'mptfrpi999', 'ataxnxi999', 'ataxnxi992',\n",
       "       'wconfci999', 'wgdproi999', 'wncanxi999', 'mfsubxi999',\n",
       "       'mftaxxi999', 'mptfrni999', 'mptfrri999', 'xlceupi999',\n",
       "       'xlcuspi999', 'xlcusxi999', 'xlcyupi999', 'mtaxnxi999',\n",
       "       'npopulf001', 'npopuli001', 'npopulm001', 'npopulf014',\n",
       "       'npopuli014', 'npopulm014', 'npopulf051', 'npopuli051',\n",
       "       'npopulm051', 'npopulf101', 'npopuli101', 'npopulm101',\n",
       "       'npopulf111', 'npopuli111', 'npopulm111', 'npopulf151',\n",
       "       'npopuli151', 'npopulm151', 'npopulf156', 'npopuli156',\n",
       "       'npopulm156', 'npopulf201', 'npopuli201', 'npopulm201',\n",
       "       'npopulf202', 'npopuli202', 'npopulm202', 'npopulf251',\n",
       "       'xlceuxi999', 'npopuli251', 'npopulm251', 'xlcyuxi999',\n",
       "       'npopulf301', 'npopuli301', 'npopulm301', 'npopulf302',\n",
       "       'npopuli302', 'npopulm302', 'npopulf351', 'npopuli351',\n",
       "       'npopulm351', 'npopulf401', 'npopuli401', 'npopulm401',\n",
       "       'npopulf402', 'npopuli402', 'npopulm402', 'npopulf451',\n",
       "       'npopuli451', 'npopulm451', 'npopulf501', 'npopuli501',\n",
       "       'npopulm501', 'npopulf502', 'npopuli502', 'npopulm502',\n",
       "       'npopulf551', 'npopuli551', 'npopulm551', 'npopulf601',\n",
       "       'npopuli601', 'npopulm601', 'npopulf602', 'npopuli602',\n",
       "       'npopulm602', 'npopulf651', 'npopuli651', 'npopulm651',\n",
       "       'npopulf701', 'npopuli701', 'npopulm701', 'npopulf702',\n",
       "       'npopuli702', 'npopulm702', 'npopulf751', 'npopuli751',\n",
       "       'npopulm751', 'npopulf801', 'npopuli801', 'npopulm801',\n",
       "       'npopulf802', 'npopuli802', 'npopulm802', 'npopulf851',\n",
       "       'npopuli851', 'npopulm851', 'npopulf901', 'npopuli901',\n",
       "       'npopulm901', 'npopulf902', 'npopuli902', 'npopulm902',\n",
       "       'npopulf951', 'npopuli951', 'npopulm951', 'npopulf991',\n",
       "       'npopuli991', 'npopulm991', 'npopulf992', 'npopuli992',\n",
       "       'npopulm992', 'npopulf993', 'npopuli993', 'npopulm993',\n",
       "       'npopulf994', 'npopuli994', 'npopulm994', 'npopulf995',\n",
       "       'npopuli995', 'npopulm995', 'npopulf996', 'npopuli996',\n",
       "       'npopulm996', 'npopulf997', 'npopuli997', 'npopulm997',\n",
       "       'npopulf998', 'npopuli998', 'npopulm998', 'npopulf999',\n",
       "       'npopuli999', 'npopulm999', 'wfsubxi999', 'wftaxxi999',\n",
       "       'wtaxnxi999', 'wndproi999'], dtype=object)"
      ]
     },
     "execution_count": 73,
     "metadata": {},
     "output_type": "execute_result"
    }
   ],
   "source": [
    "def get_good_vars(continent):\n",
    "    assert continent in continent_codes.keys(), f\"Continent {continent} not found\"\n",
    "    df = continent_df[continent]\n",
    "    good_vars = []\n",
    "    for var in df[\"variable\"].unique():\n",
    "        var_df = df[df[\"variable\"] == var]\n",
    "        var_df = var_df.dropna(subset=[\"value\"])\n",
    "        if (len(var_df) == len(set(var_df[\"year\"]))) and (len(var_df) > 0):\n",
    "            good_vars.append(var)\n",
    "    return good_vars\n",
    "\n",
    "good_varset = set()\n",
    "\n",
    "good_var_list = []\n",
    "for continent in continent_codes.keys():\n",
    "    good_vars = get_good_vars(continent)\n",
    "    good_var_list.append(good_vars)\n",
    "    print(f\"Continent: {continent}, Good vars: {len(good_vars)}\")\n",
    "# Preserve the order of the vars\n",
    "\n",
    "good_vars = []\n",
    "\n",
    "for listt in good_var_list:\n",
    "    for var in listt:\n",
    "        if var not in good_varset and all([var in good_var_list[i] for i in range(len(good_var_list))]):\n",
    "            good_varset.add(var)\n",
    "            good_vars.append(var)\n",
    "\n",
    "print(f\"Good vars: {len(good_vars)}\")\n",
    "\n",
    "for var in good_vars:\n",
    "    if not all([var in good_var_list[i] for i in range(len(good_var_list))]):\n",
    "        print(f\"Variable {var} not in all continents\")\n"
   ]
  },
  {
   "cell_type": "code",
   "execution_count": null,
   "id": "4e896dd5",
   "metadata": {},
   "outputs": [],
   "source": [
    "cormats = []\n",
    "for continent in continent_codes.keys():\n",
    "    cormat = corr(good_vars, continent)\n",
    "    fig, ax = plt.subplots(figsize=(10, 8))\n",
    "    cax = ax.matshow(cormat, cmap='coolwarm')\n",
    "    plt.colorbar(cax)\n",
    "    plt.title(f\"Correlation Matrix for {continent}\")\n",
    "    plt.tight_layout()\n",
    "    plt.show()\n",
    "    cormats.append(cormat)\n"
   ]
  }
 ],
 "metadata": {
  "kernelspec": {
   "display_name": "datasci",
   "language": "python",
   "name": "python3"
  },
  "language_info": {
   "codemirror_mode": {
    "name": "ipython",
    "version": 3
   },
   "file_extension": ".py",
   "mimetype": "text/x-python",
   "name": "python",
   "nbconvert_exporter": "python",
   "pygments_lexer": "ipython3",
   "version": "3.11.11"
  }
 },
 "nbformat": 4,
 "nbformat_minor": 5
}
