{
 "cells": [
  {
   "cell_type": "markdown",
   "id": "fd7ee4a4",
   "metadata": {},
   "source": [
    "<h3><center>Campus Energy Consumption</center></h3>\n",
    "<h5><center><a href=\"https://github.com/Aarsh-Wankar/\">Aarsh Wankar</a>, IIT Gandhinagar, <a style=\"text-decoration:none\" href=\"mailto:23110003@iitgn.ac.in\">23110003@iitgn.ac.in\n",
    "<br><br>\n",
    "<a style=\"text-decoration:none\" href=\"https://github.com/jsmaskeen/\">Jaskirat Singh Maskeen</a>, IIT Gandhinagar, <a style=\"text-decoration:none\" href=\"mailto:23110146@iitgn.ac.in\">23110146@iitgn.ac.in</a>\n",
    "<br><br>\n",
    "<a style=\"text-decoration:none\" href=\"https://github.com/nishchaybhutoria/\">Nishchay Bhutoria</a>, IIT Gandhinagar, <a style=\"text-decoration:none\" href=\"mailto:23110222@iitgn.ac.in\">23110222@iitgn.ac.in</a>\n",
    "<br><br>\n",
    "<a style=\"text-decoration:none\" href=\"https://github.com/ridhamp4/\">Ridham Patel</a>, IIT Gandhinagar, <a style=\"text-decoration:none\" href=\"mailto:23110238@iitgn.ac.in\">23110238@iitgn.ac.in</a>\n",
    "\n",
    "</h5>"
   ]
  },
  {
   "cell_type": "code",
   "execution_count": 1,
   "id": "d070f97b",
   "metadata": {},
   "outputs": [
    {
     "data": {
      "text/html": [
       "<button type=\"button\" class=\"btn btn-outline-danger\"  onclick=\"codeToggle();\">Toggle Code</button>"
      ],
      "text/plain": [
       "<IPython.core.display.HTML object>"
      ]
     },
     "execution_count": 1,
     "metadata": {},
     "output_type": "execute_result"
    }
   ],
   "source": [
    "from IPython.display import HTML\n",
    "import plotly.io as pio\n",
    "import warnings\n",
    "warnings.filterwarnings(\"ignore\")\n",
    "pio.renderers.default = \"notebook_connected\"\n",
    "HTML('''<button type=\"button\" class=\"btn btn-outline-danger\"  onclick=\"codeToggle();\">Toggle Code</button>''')\n"
   ]
  },
  {
   "cell_type": "code",
   "execution_count": 2,
   "id": "1ff791ad",
   "metadata": {},
   "outputs": [],
   "source": [
    "import pandas as pd\n",
    "import numpy as np\n",
    "import matplotlib.pyplot as plt\n",
    "import plotly.express as px\n",
    "import tarfile\n",
    "import io\n",
    "import requests\n",
    "from functools import reduce\n",
    "from raceplotly.plots import barplot\n",
    "import statsmodels.api as sm\n",
    "from scipy.stats import pearsonr\n"
   ]
  }
 ],
 "metadata": {
  "kernelspec": {
   "display_name": "Python 3",
   "language": "python",
   "name": "python3"
  },
  "language_info": {
   "codemirror_mode": {
    "name": "ipython",
    "version": 3
   },
   "file_extension": ".py",
   "mimetype": "text/x-python",
   "name": "python",
   "nbconvert_exporter": "python",
   "pygments_lexer": "ipython3",
   "version": "3.12.4"
  }
 },
 "nbformat": 4,
 "nbformat_minor": 5
}
